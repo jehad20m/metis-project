{
 "cells": [
  {
   "cell_type": "code",
   "execution_count": 114,
   "metadata": {},
   "outputs": [],
   "source": [
    "import pandas as pd\n",
    "import matplotlib.pyplot as plt\n",
    "import seaborn as sns\n",
    "import numpy as np\n",
    "from sklearn.model_selection import train_test_split\n",
    "from sklearn.preprocessing import StandardScaler\n",
    "from sklearn.neighbors import KNeighborsClassifier\n",
    "from sklearn.metrics import confusion_matrix\n",
    "from sklearn.linear_model import LogisticRegression\n",
    "from sklearn import svm\n",
    "from sklearn.tree import DecisionTreeClassifier\n",
    "from sklearn.ensemble import RandomForestClassifier\n",
    "import xgboost as xgb\n",
    "import pickle\n",
    "from sklearn.naive_bayes import BernoulliNB, MultinomialNB, GaussianNB\n",
    "from sklearn.metrics import classification_report,confusion_matrix ,accuracy_score , plot_confusion_matrix ,plot_roc_curve"
   ]
  },
  {
   "cell_type": "code",
   "execution_count": 2,
   "metadata": {},
   "outputs": [],
   "source": [
    "df=pd.read_csv('Star39552_balanced.csv')"
   ]
  },
  {
   "cell_type": "code",
   "execution_count": 3,
   "metadata": {},
   "outputs": [
    {
     "data": {
      "text/plain": [
       "(39552, 7)"
      ]
     },
     "execution_count": 3,
     "metadata": {},
     "output_type": "execute_result"
    }
   ],
   "source": [
    "df.shape"
   ]
  },
  {
   "cell_type": "code",
   "execution_count": 4,
   "metadata": {},
   "outputs": [
    {
     "data": {
      "text/html": [
       "<div>\n",
       "<style scoped>\n",
       "    .dataframe tbody tr th:only-of-type {\n",
       "        vertical-align: middle;\n",
       "    }\n",
       "\n",
       "    .dataframe tbody tr th {\n",
       "        vertical-align: top;\n",
       "    }\n",
       "\n",
       "    .dataframe thead th {\n",
       "        text-align: right;\n",
       "    }\n",
       "</style>\n",
       "<table border=\"1\" class=\"dataframe\">\n",
       "  <thead>\n",
       "    <tr style=\"text-align: right;\">\n",
       "      <th></th>\n",
       "      <th>Vmag</th>\n",
       "      <th>Plx</th>\n",
       "      <th>e_Plx</th>\n",
       "      <th>B-V</th>\n",
       "      <th>SpType</th>\n",
       "      <th>Amag</th>\n",
       "      <th>TargetClass</th>\n",
       "    </tr>\n",
       "  </thead>\n",
       "  <tbody>\n",
       "    <tr>\n",
       "      <td>0</td>\n",
       "      <td>10.00</td>\n",
       "      <td>31.66</td>\n",
       "      <td>6.19</td>\n",
       "      <td>1.213</td>\n",
       "      <td>K7V</td>\n",
       "      <td>22.502556</td>\n",
       "      <td>1</td>\n",
       "    </tr>\n",
       "    <tr>\n",
       "      <td>1</td>\n",
       "      <td>8.26</td>\n",
       "      <td>3.21</td>\n",
       "      <td>1.00</td>\n",
       "      <td>1.130</td>\n",
       "      <td>K0III</td>\n",
       "      <td>15.792525</td>\n",
       "      <td>0</td>\n",
       "    </tr>\n",
       "    <tr>\n",
       "      <td>2</td>\n",
       "      <td>8.27</td>\n",
       "      <td>12.75</td>\n",
       "      <td>1.06</td>\n",
       "      <td>0.596</td>\n",
       "      <td>F9V</td>\n",
       "      <td>18.797552</td>\n",
       "      <td>1</td>\n",
       "    </tr>\n",
       "    <tr>\n",
       "      <td>3</td>\n",
       "      <td>6.54</td>\n",
       "      <td>5.23</td>\n",
       "      <td>0.76</td>\n",
       "      <td>1.189</td>\n",
       "      <td>K1III</td>\n",
       "      <td>15.132508</td>\n",
       "      <td>0</td>\n",
       "    </tr>\n",
       "    <tr>\n",
       "      <td>4</td>\n",
       "      <td>8.52</td>\n",
       "      <td>0.96</td>\n",
       "      <td>0.72</td>\n",
       "      <td>0.173</td>\n",
       "      <td>B8V</td>\n",
       "      <td>13.431356</td>\n",
       "      <td>1</td>\n",
       "    </tr>\n",
       "  </tbody>\n",
       "</table>\n",
       "</div>"
      ],
      "text/plain": [
       "    Vmag    Plx  e_Plx    B-V SpType       Amag  TargetClass\n",
       "0  10.00  31.66   6.19  1.213    K7V  22.502556            1\n",
       "1   8.26   3.21   1.00  1.130  K0III  15.792525            0\n",
       "2   8.27  12.75   1.06  0.596    F9V  18.797552            1\n",
       "3   6.54   5.23   0.76  1.189  K1III  15.132508            0\n",
       "4   8.52   0.96   0.72  0.173    B8V  13.431356            1"
      ]
     },
     "execution_count": 4,
     "metadata": {},
     "output_type": "execute_result"
    }
   ],
   "source": [
    "df.head()"
   ]
  },
  {
   "cell_type": "code",
   "execution_count": 5,
   "metadata": {},
   "outputs": [
    {
     "data": {
      "text/html": [
       "<div>\n",
       "<style scoped>\n",
       "    .dataframe tbody tr th:only-of-type {\n",
       "        vertical-align: middle;\n",
       "    }\n",
       "\n",
       "    .dataframe tbody tr th {\n",
       "        vertical-align: top;\n",
       "    }\n",
       "\n",
       "    .dataframe thead th {\n",
       "        text-align: right;\n",
       "    }\n",
       "</style>\n",
       "<table border=\"1\" class=\"dataframe\">\n",
       "  <thead>\n",
       "    <tr style=\"text-align: right;\">\n",
       "      <th></th>\n",
       "      <th>Vmag</th>\n",
       "      <th>Plx</th>\n",
       "      <th>e_Plx</th>\n",
       "      <th>B-V</th>\n",
       "      <th>SpType</th>\n",
       "      <th>Amag</th>\n",
       "      <th>TargetClass</th>\n",
       "    </tr>\n",
       "  </thead>\n",
       "  <tbody>\n",
       "    <tr>\n",
       "      <td>39547</td>\n",
       "      <td>5.83</td>\n",
       "      <td>0.17</td>\n",
       "      <td>0.52</td>\n",
       "      <td>0.474</td>\n",
       "      <td>B7Iab</td>\n",
       "      <td>6.982245</td>\n",
       "      <td>0</td>\n",
       "    </tr>\n",
       "    <tr>\n",
       "      <td>39548</td>\n",
       "      <td>7.05</td>\n",
       "      <td>18.12</td>\n",
       "      <td>0.92</td>\n",
       "      <td>0.424</td>\n",
       "      <td>F5V</td>\n",
       "      <td>18.340790</td>\n",
       "      <td>1</td>\n",
       "    </tr>\n",
       "    <tr>\n",
       "      <td>39549</td>\n",
       "      <td>9.21</td>\n",
       "      <td>3.89</td>\n",
       "      <td>1.46</td>\n",
       "      <td>0.227</td>\n",
       "      <td>A1IV</td>\n",
       "      <td>17.159748</td>\n",
       "      <td>1</td>\n",
       "    </tr>\n",
       "    <tr>\n",
       "      <td>39550</td>\n",
       "      <td>9.01</td>\n",
       "      <td>2.13</td>\n",
       "      <td>1.46</td>\n",
       "      <td>1.467</td>\n",
       "      <td>M5III</td>\n",
       "      <td>15.651898</td>\n",
       "      <td>0</td>\n",
       "    </tr>\n",
       "    <tr>\n",
       "      <td>39551</td>\n",
       "      <td>9.12</td>\n",
       "      <td>3.82</td>\n",
       "      <td>0.79</td>\n",
       "      <td>0.480</td>\n",
       "      <td>F5V</td>\n",
       "      <td>17.030317</td>\n",
       "      <td>1</td>\n",
       "    </tr>\n",
       "  </tbody>\n",
       "</table>\n",
       "</div>"
      ],
      "text/plain": [
       "       Vmag    Plx  e_Plx    B-V SpType       Amag  TargetClass\n",
       "39547  5.83   0.17   0.52  0.474  B7Iab   6.982245            0\n",
       "39548  7.05  18.12   0.92  0.424    F5V  18.340790            1\n",
       "39549  9.21   3.89   1.46  0.227   A1IV  17.159748            1\n",
       "39550  9.01   2.13   1.46  1.467  M5III  15.651898            0\n",
       "39551  9.12   3.82   0.79  0.480    F5V  17.030317            1"
      ]
     },
     "execution_count": 5,
     "metadata": {},
     "output_type": "execute_result"
    }
   ],
   "source": [
    "df.tail()"
   ]
  },
  {
   "cell_type": "code",
   "execution_count": 6,
   "metadata": {},
   "outputs": [
    {
     "data": {
      "text/html": [
       "<div>\n",
       "<style scoped>\n",
       "    .dataframe tbody tr th:only-of-type {\n",
       "        vertical-align: middle;\n",
       "    }\n",
       "\n",
       "    .dataframe tbody tr th {\n",
       "        vertical-align: top;\n",
       "    }\n",
       "\n",
       "    .dataframe thead th {\n",
       "        text-align: right;\n",
       "    }\n",
       "</style>\n",
       "<table border=\"1\" class=\"dataframe\">\n",
       "  <thead>\n",
       "    <tr style=\"text-align: right;\">\n",
       "      <th></th>\n",
       "      <th>Vmag</th>\n",
       "      <th>Plx</th>\n",
       "      <th>e_Plx</th>\n",
       "      <th>B-V</th>\n",
       "      <th>SpType</th>\n",
       "      <th>Amag</th>\n",
       "      <th>TargetClass</th>\n",
       "    </tr>\n",
       "  </thead>\n",
       "  <tbody>\n",
       "    <tr>\n",
       "      <td>32456</td>\n",
       "      <td>7.51</td>\n",
       "      <td>3.26</td>\n",
       "      <td>1.01</td>\n",
       "      <td>1.013</td>\n",
       "      <td>G8/K0II/III</td>\n",
       "      <td>15.076089</td>\n",
       "      <td>0</td>\n",
       "    </tr>\n",
       "    <tr>\n",
       "      <td>23963</td>\n",
       "      <td>8.14</td>\n",
       "      <td>18.92</td>\n",
       "      <td>1.06</td>\n",
       "      <td>0.712</td>\n",
       "      <td>G8III</td>\n",
       "      <td>19.524607</td>\n",
       "      <td>0</td>\n",
       "    </tr>\n",
       "    <tr>\n",
       "      <td>3824</td>\n",
       "      <td>7.78</td>\n",
       "      <td>2.39</td>\n",
       "      <td>1.15</td>\n",
       "      <td>-0.084</td>\n",
       "      <td>B8V</td>\n",
       "      <td>14.671989</td>\n",
       "      <td>1</td>\n",
       "    </tr>\n",
       "    <tr>\n",
       "      <td>27540</td>\n",
       "      <td>8.45</td>\n",
       "      <td>11.74</td>\n",
       "      <td>1.16</td>\n",
       "      <td>0.625</td>\n",
       "      <td>G2V</td>\n",
       "      <td>18.798340</td>\n",
       "      <td>1</td>\n",
       "    </tr>\n",
       "    <tr>\n",
       "      <td>34008</td>\n",
       "      <td>8.81</td>\n",
       "      <td>7.18</td>\n",
       "      <td>1.26</td>\n",
       "      <td>0.649</td>\n",
       "      <td>F8/G0V</td>\n",
       "      <td>18.090622</td>\n",
       "      <td>1</td>\n",
       "    </tr>\n",
       "  </tbody>\n",
       "</table>\n",
       "</div>"
      ],
      "text/plain": [
       "       Vmag    Plx  e_Plx    B-V       SpType       Amag  TargetClass\n",
       "32456  7.51   3.26   1.01  1.013  G8/K0II/III  15.076089            0\n",
       "23963  8.14  18.92   1.06  0.712        G8III  19.524607            0\n",
       "3824   7.78   2.39   1.15 -0.084          B8V  14.671989            1\n",
       "27540  8.45  11.74   1.16  0.625          G2V  18.798340            1\n",
       "34008  8.81   7.18   1.26  0.649       F8/G0V  18.090622            1"
      ]
     },
     "execution_count": 6,
     "metadata": {},
     "output_type": "execute_result"
    }
   ],
   "source": [
    "df.sample(5)"
   ]
  },
  {
   "cell_type": "code",
   "execution_count": 7,
   "metadata": {},
   "outputs": [],
   "source": [
    "#!pip3 install numpy --upgrade"
   ]
  },
  {
   "cell_type": "code",
   "execution_count": 8,
   "metadata": {},
   "outputs": [
    {
     "name": "stdout",
     "output_type": "stream",
     "text": [
      "<class 'pandas.core.frame.DataFrame'>\n",
      "RangeIndex: 39552 entries, 0 to 39551\n",
      "Data columns (total 7 columns):\n",
      "Vmag           39552 non-null float64\n",
      "Plx            39552 non-null float64\n",
      "e_Plx          39552 non-null float64\n",
      "B-V            39552 non-null float64\n",
      "SpType         39552 non-null object\n",
      "Amag           39552 non-null float64\n",
      "TargetClass    39552 non-null int64\n",
      "dtypes: float64(5), int64(1), object(1)\n",
      "memory usage: 2.1+ MB\n"
     ]
    }
   ],
   "source": [
    "df.info()"
   ]
  },
  {
   "cell_type": "code",
   "execution_count": 9,
   "metadata": {},
   "outputs": [
    {
     "name": "stdout",
     "output_type": "stream",
     "text": [
      "1.19.5\n"
     ]
    }
   ],
   "source": [
    "import numpy\n",
    "print(numpy.__version__)"
   ]
  },
  {
   "cell_type": "code",
   "execution_count": 10,
   "metadata": {},
   "outputs": [
    {
     "name": "stdout",
     "output_type": "stream",
     "text": [
      "0.25.1\n"
     ]
    }
   ],
   "source": [
    "import pandas\n",
    "print(pandas.__version__)"
   ]
  },
  {
   "cell_type": "code",
   "execution_count": 11,
   "metadata": {},
   "outputs": [],
   "source": [
    "#!pip install pandas==0.25.1"
   ]
  },
  {
   "cell_type": "code",
   "execution_count": 12,
   "metadata": {},
   "outputs": [],
   "source": [
    "#!pip install numpy==1.16.5"
   ]
  },
  {
   "cell_type": "code",
   "execution_count": 13,
   "metadata": {},
   "outputs": [],
   "source": [
    "#!pip install numpy==1.16.5"
   ]
  },
  {
   "cell_type": "markdown",
   "metadata": {},
   "source": [
    "# EDA"
   ]
  },
  {
   "cell_type": "code",
   "execution_count": 14,
   "metadata": {},
   "outputs": [
    {
     "data": {
      "text/plain": [
       "Index(['Vmag', 'Plx', 'e_Plx', 'B-V', 'SpType', 'Amag', 'TargetClass'], dtype='object')"
      ]
     },
     "execution_count": 14,
     "metadata": {},
     "output_type": "execute_result"
    }
   ],
   "source": [
    "# remove white space before and after features name\n",
    "df.columns=[column.strip() for column in df.columns]\n",
    "df.columns"
   ]
  },
  {
   "cell_type": "code",
   "execution_count": 15,
   "metadata": {},
   "outputs": [
    {
     "data": {
      "text/plain": [
       "Vmag           0\n",
       "Plx            0\n",
       "e_Plx          0\n",
       "B-V            0\n",
       "SpType         0\n",
       "Amag           0\n",
       "TargetClass    0\n",
       "dtype: int64"
      ]
     },
     "execution_count": 15,
     "metadata": {},
     "output_type": "execute_result"
    }
   ],
   "source": [
    "# check null values\n",
    "df.isnull().sum()"
   ]
  },
  {
   "cell_type": "code",
   "execution_count": 16,
   "metadata": {},
   "outputs": [
    {
     "data": {
      "text/plain": [
       "0"
      ]
     },
     "execution_count": 16,
     "metadata": {},
     "output_type": "execute_result"
    }
   ],
   "source": [
    "# check duplicated rows\n",
    "df.duplicated().sum()"
   ]
  },
  {
   "cell_type": "code",
   "execution_count": 17,
   "metadata": {},
   "outputs": [
    {
     "data": {
      "text/plain": [
       "1    19776\n",
       "0    19776\n",
       "Name: TargetClass, dtype: int64"
      ]
     },
     "execution_count": 17,
     "metadata": {},
     "output_type": "execute_result"
    }
   ],
   "source": [
    "df['TargetClass'].value_counts()"
   ]
  },
  {
   "cell_type": "code",
   "execution_count": null,
   "metadata": {},
   "outputs": [],
   "source": [
    "df.drop('county_name',axis='columns', inplace=True)\n"
   ]
  },
  {
   "cell_type": "code",
   "execution_count": 18,
   "metadata": {},
   "outputs": [
    {
     "data": {
      "text/plain": [
       "(array([0, 1]), <a list of 2 Text xticklabel objects>)"
      ]
     },
     "execution_count": 18,
     "metadata": {},
     "output_type": "execute_result"
    },
    {
     "data": {
      "image/png": "[encoded data removed]",
      "text/plain": [
       "<Figure size 480x320 with 1 Axes>"
      ]
     },
     "metadata": {
      "needs_background": "light"
     },
     "output_type": "display_data"
    }
   ],
   "source": [
    "plt.figure(figsize=(6, 4), dpi=80)\n",
    "sns.countplot(x=df.TargetClass,data=df)\n",
    "plt.title(\"Number of Stars in Each Category\", fontsize=14, fontweight='bold')\n",
    "plt.ylabel(\"Number of Stars\", fontsize=12, fontweight='bold')\n",
    "plt.xlabel(\"Stars Category\", fontsize=12, fontweight='bold')\n",
    "plt.xticks(size=14)"
   ]
  },
  {
   "cell_type": "markdown",
   "metadata": {},
   "source": [
    "## Removing outliers"
   ]
  },
  {
   "cell_type": "code",
   "execution_count": 19,
   "metadata": {},
   "outputs": [
    {
     "data": {
      "text/plain": [
       "<matplotlib.axes._subplots.AxesSubplot at 0x18bfcdf24c8>"
      ]
     },
     "execution_count": 19,
     "metadata": {},
     "output_type": "execute_result"
    },
    {
     "data": {
      "image/png": "[encoded data removed]",
      "text/plain": [
       "<Figure size 432x288 with 1 Axes>"
      ]
     },
     "metadata": {
      "needs_background": "light"
     },
     "output_type": "display_data"
    }
   ],
   "source": [
    "sns.boxplot(df.Vmag)"
   ]
  },
  {
   "cell_type": "code",
   "execution_count": 20,
   "metadata": {},
   "outputs": [
    {
     "name": "stdout",
     "output_type": "stream",
     "text": [
      "4.779999999999999\n",
      "11.26\n"
     ]
    }
   ],
   "source": [
    "q3= df.Vmag.quantile(q=0.75)\n",
    "q1= df.Vmag.quantile(q=0.25)\n",
    "Iqr = q3 - q1 \n",
    "upper = (q3 + 1.5 * Iqr) \n",
    "lower = (q1 - 1.5 * Iqr) \n",
    "print(lower)\n",
    "print(upper)"
   ]
  },
  {
   "cell_type": "code",
   "execution_count": 21,
   "metadata": {},
   "outputs": [
    {
     "data": {
      "text/html": [
       "<div>\n",
       "<style scoped>\n",
       "    .dataframe tbody tr th:only-of-type {\n",
       "        vertical-align: middle;\n",
       "    }\n",
       "\n",
       "    .dataframe tbody tr th {\n",
       "        vertical-align: top;\n",
       "    }\n",
       "\n",
       "    .dataframe thead th {\n",
       "        text-align: right;\n",
       "    }\n",
       "</style>\n",
       "<table border=\"1\" class=\"dataframe\">\n",
       "  <thead>\n",
       "    <tr style=\"text-align: right;\">\n",
       "      <th></th>\n",
       "      <th>Vmag</th>\n",
       "      <th>Plx</th>\n",
       "      <th>e_Plx</th>\n",
       "      <th>B-V</th>\n",
       "      <th>SpType</th>\n",
       "      <th>Amag</th>\n",
       "      <th>TargetClass</th>\n",
       "    </tr>\n",
       "  </thead>\n",
       "  <tbody>\n",
       "    <tr>\n",
       "      <td>0</td>\n",
       "      <td>10.00</td>\n",
       "      <td>31.66</td>\n",
       "      <td>6.19</td>\n",
       "      <td>1.213</td>\n",
       "      <td>K7V</td>\n",
       "      <td>22.502556</td>\n",
       "      <td>1</td>\n",
       "    </tr>\n",
       "    <tr>\n",
       "      <td>1</td>\n",
       "      <td>8.26</td>\n",
       "      <td>3.21</td>\n",
       "      <td>1.00</td>\n",
       "      <td>1.130</td>\n",
       "      <td>K0III</td>\n",
       "      <td>15.792525</td>\n",
       "      <td>0</td>\n",
       "    </tr>\n",
       "    <tr>\n",
       "      <td>2</td>\n",
       "      <td>8.27</td>\n",
       "      <td>12.75</td>\n",
       "      <td>1.06</td>\n",
       "      <td>0.596</td>\n",
       "      <td>F9V</td>\n",
       "      <td>18.797552</td>\n",
       "      <td>1</td>\n",
       "    </tr>\n",
       "    <tr>\n",
       "      <td>3</td>\n",
       "      <td>6.54</td>\n",
       "      <td>5.23</td>\n",
       "      <td>0.76</td>\n",
       "      <td>1.189</td>\n",
       "      <td>K1III</td>\n",
       "      <td>15.132508</td>\n",
       "      <td>0</td>\n",
       "    </tr>\n",
       "    <tr>\n",
       "      <td>4</td>\n",
       "      <td>8.52</td>\n",
       "      <td>0.96</td>\n",
       "      <td>0.72</td>\n",
       "      <td>0.173</td>\n",
       "      <td>B8V</td>\n",
       "      <td>13.431356</td>\n",
       "      <td>1</td>\n",
       "    </tr>\n",
       "    <tr>\n",
       "      <td>...</td>\n",
       "      <td>...</td>\n",
       "      <td>...</td>\n",
       "      <td>...</td>\n",
       "      <td>...</td>\n",
       "      <td>...</td>\n",
       "      <td>...</td>\n",
       "      <td>...</td>\n",
       "    </tr>\n",
       "    <tr>\n",
       "      <td>39547</td>\n",
       "      <td>5.83</td>\n",
       "      <td>0.17</td>\n",
       "      <td>0.52</td>\n",
       "      <td>0.474</td>\n",
       "      <td>B7Iab</td>\n",
       "      <td>6.982245</td>\n",
       "      <td>0</td>\n",
       "    </tr>\n",
       "    <tr>\n",
       "      <td>39548</td>\n",
       "      <td>7.05</td>\n",
       "      <td>18.12</td>\n",
       "      <td>0.92</td>\n",
       "      <td>0.424</td>\n",
       "      <td>F5V</td>\n",
       "      <td>18.340790</td>\n",
       "      <td>1</td>\n",
       "    </tr>\n",
       "    <tr>\n",
       "      <td>39549</td>\n",
       "      <td>9.21</td>\n",
       "      <td>3.89</td>\n",
       "      <td>1.46</td>\n",
       "      <td>0.227</td>\n",
       "      <td>A1IV</td>\n",
       "      <td>17.159748</td>\n",
       "      <td>1</td>\n",
       "    </tr>\n",
       "    <tr>\n",
       "      <td>39550</td>\n",
       "      <td>9.01</td>\n",
       "      <td>2.13</td>\n",
       "      <td>1.46</td>\n",
       "      <td>1.467</td>\n",
       "      <td>M5III</td>\n",
       "      <td>15.651898</td>\n",
       "      <td>0</td>\n",
       "    </tr>\n",
       "    <tr>\n",
       "      <td>39551</td>\n",
       "      <td>9.12</td>\n",
       "      <td>3.82</td>\n",
       "      <td>0.79</td>\n",
       "      <td>0.480</td>\n",
       "      <td>F5V</td>\n",
       "      <td>17.030317</td>\n",
       "      <td>1</td>\n",
       "    </tr>\n",
       "  </tbody>\n",
       "</table>\n",
       "<p>39479 rows × 7 columns</p>\n",
       "</div>"
      ],
      "text/plain": [
       "        Vmag    Plx  e_Plx    B-V SpType       Amag  TargetClass\n",
       "0      10.00  31.66   6.19  1.213    K7V  22.502556            1\n",
       "1       8.26   3.21   1.00  1.130  K0III  15.792525            0\n",
       "2       8.27  12.75   1.06  0.596    F9V  18.797552            1\n",
       "3       6.54   5.23   0.76  1.189  K1III  15.132508            0\n",
       "4       8.52   0.96   0.72  0.173    B8V  13.431356            1\n",
       "...      ...    ...    ...    ...    ...        ...          ...\n",
       "39547   5.83   0.17   0.52  0.474  B7Iab   6.982245            0\n",
       "39548   7.05  18.12   0.92  0.424    F5V  18.340790            1\n",
       "39549   9.21   3.89   1.46  0.227   A1IV  17.159748            1\n",
       "39550   9.01   2.13   1.46  1.467  M5III  15.651898            0\n",
       "39551   9.12   3.82   0.79  0.480    F5V  17.030317            1\n",
       "\n",
       "[39479 rows x 7 columns]"
      ]
     },
     "execution_count": 21,
     "metadata": {},
     "output_type": "execute_result"
    }
   ],
   "source": [
    "df = df[df['Vmag'] < upper]\n",
    "df"
   ]
  },
  {
   "cell_type": "code",
   "execution_count": 22,
   "metadata": {},
   "outputs": [
    {
     "data": {
      "text/html": [
       "<div>\n",
       "<style scoped>\n",
       "    .dataframe tbody tr th:only-of-type {\n",
       "        vertical-align: middle;\n",
       "    }\n",
       "\n",
       "    .dataframe tbody tr th {\n",
       "        vertical-align: top;\n",
       "    }\n",
       "\n",
       "    .dataframe thead th {\n",
       "        text-align: right;\n",
       "    }\n",
       "</style>\n",
       "<table border=\"1\" class=\"dataframe\">\n",
       "  <thead>\n",
       "    <tr style=\"text-align: right;\">\n",
       "      <th></th>\n",
       "      <th>Vmag</th>\n",
       "      <th>Plx</th>\n",
       "      <th>e_Plx</th>\n",
       "      <th>B-V</th>\n",
       "      <th>SpType</th>\n",
       "      <th>Amag</th>\n",
       "      <th>TargetClass</th>\n",
       "    </tr>\n",
       "  </thead>\n",
       "  <tbody>\n",
       "    <tr>\n",
       "      <td>0</td>\n",
       "      <td>10.00</td>\n",
       "      <td>31.66</td>\n",
       "      <td>6.19</td>\n",
       "      <td>1.213</td>\n",
       "      <td>K7V</td>\n",
       "      <td>22.502556</td>\n",
       "      <td>1</td>\n",
       "    </tr>\n",
       "    <tr>\n",
       "      <td>1</td>\n",
       "      <td>8.26</td>\n",
       "      <td>3.21</td>\n",
       "      <td>1.00</td>\n",
       "      <td>1.130</td>\n",
       "      <td>K0III</td>\n",
       "      <td>15.792525</td>\n",
       "      <td>0</td>\n",
       "    </tr>\n",
       "    <tr>\n",
       "      <td>2</td>\n",
       "      <td>8.27</td>\n",
       "      <td>12.75</td>\n",
       "      <td>1.06</td>\n",
       "      <td>0.596</td>\n",
       "      <td>F9V</td>\n",
       "      <td>18.797552</td>\n",
       "      <td>1</td>\n",
       "    </tr>\n",
       "    <tr>\n",
       "      <td>3</td>\n",
       "      <td>6.54</td>\n",
       "      <td>5.23</td>\n",
       "      <td>0.76</td>\n",
       "      <td>1.189</td>\n",
       "      <td>K1III</td>\n",
       "      <td>15.132508</td>\n",
       "      <td>0</td>\n",
       "    </tr>\n",
       "    <tr>\n",
       "      <td>4</td>\n",
       "      <td>8.52</td>\n",
       "      <td>0.96</td>\n",
       "      <td>0.72</td>\n",
       "      <td>0.173</td>\n",
       "      <td>B8V</td>\n",
       "      <td>13.431356</td>\n",
       "      <td>1</td>\n",
       "    </tr>\n",
       "    <tr>\n",
       "      <td>...</td>\n",
       "      <td>...</td>\n",
       "      <td>...</td>\n",
       "      <td>...</td>\n",
       "      <td>...</td>\n",
       "      <td>...</td>\n",
       "      <td>...</td>\n",
       "      <td>...</td>\n",
       "    </tr>\n",
       "    <tr>\n",
       "      <td>39547</td>\n",
       "      <td>5.83</td>\n",
       "      <td>0.17</td>\n",
       "      <td>0.52</td>\n",
       "      <td>0.474</td>\n",
       "      <td>B7Iab</td>\n",
       "      <td>6.982245</td>\n",
       "      <td>0</td>\n",
       "    </tr>\n",
       "    <tr>\n",
       "      <td>39548</td>\n",
       "      <td>7.05</td>\n",
       "      <td>18.12</td>\n",
       "      <td>0.92</td>\n",
       "      <td>0.424</td>\n",
       "      <td>F5V</td>\n",
       "      <td>18.340790</td>\n",
       "      <td>1</td>\n",
       "    </tr>\n",
       "    <tr>\n",
       "      <td>39549</td>\n",
       "      <td>9.21</td>\n",
       "      <td>3.89</td>\n",
       "      <td>1.46</td>\n",
       "      <td>0.227</td>\n",
       "      <td>A1IV</td>\n",
       "      <td>17.159748</td>\n",
       "      <td>1</td>\n",
       "    </tr>\n",
       "    <tr>\n",
       "      <td>39550</td>\n",
       "      <td>9.01</td>\n",
       "      <td>2.13</td>\n",
       "      <td>1.46</td>\n",
       "      <td>1.467</td>\n",
       "      <td>M5III</td>\n",
       "      <td>15.651898</td>\n",
       "      <td>0</td>\n",
       "    </tr>\n",
       "    <tr>\n",
       "      <td>39551</td>\n",
       "      <td>9.12</td>\n",
       "      <td>3.82</td>\n",
       "      <td>0.79</td>\n",
       "      <td>0.480</td>\n",
       "      <td>F5V</td>\n",
       "      <td>17.030317</td>\n",
       "      <td>1</td>\n",
       "    </tr>\n",
       "  </tbody>\n",
       "</table>\n",
       "<p>38615 rows × 7 columns</p>\n",
       "</div>"
      ],
      "text/plain": [
       "        Vmag    Plx  e_Plx    B-V SpType       Amag  TargetClass\n",
       "0      10.00  31.66   6.19  1.213    K7V  22.502556            1\n",
       "1       8.26   3.21   1.00  1.130  K0III  15.792525            0\n",
       "2       8.27  12.75   1.06  0.596    F9V  18.797552            1\n",
       "3       6.54   5.23   0.76  1.189  K1III  15.132508            0\n",
       "4       8.52   0.96   0.72  0.173    B8V  13.431356            1\n",
       "...      ...    ...    ...    ...    ...        ...          ...\n",
       "39547   5.83   0.17   0.52  0.474  B7Iab   6.982245            0\n",
       "39548   7.05  18.12   0.92  0.424    F5V  18.340790            1\n",
       "39549   9.21   3.89   1.46  0.227   A1IV  17.159748            1\n",
       "39550   9.01   2.13   1.46  1.467  M5III  15.651898            0\n",
       "39551   9.12   3.82   0.79  0.480    F5V  17.030317            1\n",
       "\n",
       "[38615 rows x 7 columns]"
      ]
     },
     "execution_count": 22,
     "metadata": {},
     "output_type": "execute_result"
    }
   ],
   "source": [
    "df = df[lower<df['Vmag']]\n",
    "df"
   ]
  },
  {
   "cell_type": "code",
   "execution_count": 23,
   "metadata": {},
   "outputs": [
    {
     "data": {
      "text/plain": [
       "<matplotlib.axes._subplots.AxesSubplot at 0x18bfce46e88>"
      ]
     },
     "execution_count": 23,
     "metadata": {},
     "output_type": "execute_result"
    },
    {
     "data": {
      "image/png": "[encoded data removed]",
      "text/plain": [
       "<Figure size 432x288 with 1 Axes>"
      ]
     },
     "metadata": {
      "needs_background": "light"
     },
     "output_type": "display_data"
    }
   ],
   "source": [
    "sns.boxplot(df.Vmag)"
   ]
  },
  {
   "cell_type": "code",
   "execution_count": 24,
   "metadata": {},
   "outputs": [
    {
     "data": {
      "text/plain": [
       "<matplotlib.axes._subplots.AxesSubplot at 0x18bfd1e3f08>"
      ]
     },
     "execution_count": 24,
     "metadata": {},
     "output_type": "execute_result"
    },
    {
     "data": {
      "image/png": "[encoded data removed]",
      "text/plain": [
       "<Figure size 432x288 with 1 Axes>"
      ]
     },
     "metadata": {
      "needs_background": "light"
     },
     "output_type": "display_data"
    }
   ],
   "source": [
    "sns.boxplot(df.Amag)"
   ]
  },
  {
   "cell_type": "code",
   "execution_count": 25,
   "metadata": {},
   "outputs": [
    {
     "name": "stdout",
     "output_type": "stream",
     "text": [
      "10.579655\n",
      "21.840119\n"
     ]
    }
   ],
   "source": [
    "q3= df.Amag.quantile(q=0.75)\n",
    "q1= df.Amag.quantile(q=0.25)\n",
    "Iqr = q3 - q1 \n",
    "upper = (q3 + 1.5 * Iqr) \n",
    "lower = (q1 - 1.5 * Iqr) \n",
    "print(lower)\n",
    "print(upper)"
   ]
  },
  {
   "cell_type": "code",
   "execution_count": 26,
   "metadata": {},
   "outputs": [
    {
     "data": {
      "text/html": [
       "<div>\n",
       "<style scoped>\n",
       "    .dataframe tbody tr th:only-of-type {\n",
       "        vertical-align: middle;\n",
       "    }\n",
       "\n",
       "    .dataframe tbody tr th {\n",
       "        vertical-align: top;\n",
       "    }\n",
       "\n",
       "    .dataframe thead th {\n",
       "        text-align: right;\n",
       "    }\n",
       "</style>\n",
       "<table border=\"1\" class=\"dataframe\">\n",
       "  <thead>\n",
       "    <tr style=\"text-align: right;\">\n",
       "      <th></th>\n",
       "      <th>Vmag</th>\n",
       "      <th>Plx</th>\n",
       "      <th>e_Plx</th>\n",
       "      <th>B-V</th>\n",
       "      <th>SpType</th>\n",
       "      <th>Amag</th>\n",
       "      <th>TargetClass</th>\n",
       "    </tr>\n",
       "  </thead>\n",
       "  <tbody>\n",
       "    <tr>\n",
       "      <td>1</td>\n",
       "      <td>8.26</td>\n",
       "      <td>3.21</td>\n",
       "      <td>1.00</td>\n",
       "      <td>1.130</td>\n",
       "      <td>K0III</td>\n",
       "      <td>15.792525</td>\n",
       "      <td>0</td>\n",
       "    </tr>\n",
       "    <tr>\n",
       "      <td>2</td>\n",
       "      <td>8.27</td>\n",
       "      <td>12.75</td>\n",
       "      <td>1.06</td>\n",
       "      <td>0.596</td>\n",
       "      <td>F9V</td>\n",
       "      <td>18.797552</td>\n",
       "      <td>1</td>\n",
       "    </tr>\n",
       "    <tr>\n",
       "      <td>3</td>\n",
       "      <td>6.54</td>\n",
       "      <td>5.23</td>\n",
       "      <td>0.76</td>\n",
       "      <td>1.189</td>\n",
       "      <td>K1III</td>\n",
       "      <td>15.132508</td>\n",
       "      <td>0</td>\n",
       "    </tr>\n",
       "    <tr>\n",
       "      <td>4</td>\n",
       "      <td>8.52</td>\n",
       "      <td>0.96</td>\n",
       "      <td>0.72</td>\n",
       "      <td>0.173</td>\n",
       "      <td>B8V</td>\n",
       "      <td>13.431356</td>\n",
       "      <td>1</td>\n",
       "    </tr>\n",
       "    <tr>\n",
       "      <td>5</td>\n",
       "      <td>6.09</td>\n",
       "      <td>6.02</td>\n",
       "      <td>0.95</td>\n",
       "      <td>0.040</td>\n",
       "      <td>B8IVn</td>\n",
       "      <td>14.987983</td>\n",
       "      <td>1</td>\n",
       "    </tr>\n",
       "    <tr>\n",
       "      <td>...</td>\n",
       "      <td>...</td>\n",
       "      <td>...</td>\n",
       "      <td>...</td>\n",
       "      <td>...</td>\n",
       "      <td>...</td>\n",
       "      <td>...</td>\n",
       "      <td>...</td>\n",
       "    </tr>\n",
       "    <tr>\n",
       "      <td>39547</td>\n",
       "      <td>5.83</td>\n",
       "      <td>0.17</td>\n",
       "      <td>0.52</td>\n",
       "      <td>0.474</td>\n",
       "      <td>B7Iab</td>\n",
       "      <td>6.982245</td>\n",
       "      <td>0</td>\n",
       "    </tr>\n",
       "    <tr>\n",
       "      <td>39548</td>\n",
       "      <td>7.05</td>\n",
       "      <td>18.12</td>\n",
       "      <td>0.92</td>\n",
       "      <td>0.424</td>\n",
       "      <td>F5V</td>\n",
       "      <td>18.340790</td>\n",
       "      <td>1</td>\n",
       "    </tr>\n",
       "    <tr>\n",
       "      <td>39549</td>\n",
       "      <td>9.21</td>\n",
       "      <td>3.89</td>\n",
       "      <td>1.46</td>\n",
       "      <td>0.227</td>\n",
       "      <td>A1IV</td>\n",
       "      <td>17.159748</td>\n",
       "      <td>1</td>\n",
       "    </tr>\n",
       "    <tr>\n",
       "      <td>39550</td>\n",
       "      <td>9.01</td>\n",
       "      <td>2.13</td>\n",
       "      <td>1.46</td>\n",
       "      <td>1.467</td>\n",
       "      <td>M5III</td>\n",
       "      <td>15.651898</td>\n",
       "      <td>0</td>\n",
       "    </tr>\n",
       "    <tr>\n",
       "      <td>39551</td>\n",
       "      <td>9.12</td>\n",
       "      <td>3.82</td>\n",
       "      <td>0.79</td>\n",
       "      <td>0.480</td>\n",
       "      <td>F5V</td>\n",
       "      <td>17.030317</td>\n",
       "      <td>1</td>\n",
       "    </tr>\n",
       "  </tbody>\n",
       "</table>\n",
       "<p>38311 rows × 7 columns</p>\n",
       "</div>"
      ],
      "text/plain": [
       "       Vmag    Plx  e_Plx    B-V SpType       Amag  TargetClass\n",
       "1      8.26   3.21   1.00  1.130  K0III  15.792525            0\n",
       "2      8.27  12.75   1.06  0.596    F9V  18.797552            1\n",
       "3      6.54   5.23   0.76  1.189  K1III  15.132508            0\n",
       "4      8.52   0.96   0.72  0.173    B8V  13.431356            1\n",
       "5      6.09   6.02   0.95  0.040  B8IVn  14.987983            1\n",
       "...     ...    ...    ...    ...    ...        ...          ...\n",
       "39547  5.83   0.17   0.52  0.474  B7Iab   6.982245            0\n",
       "39548  7.05  18.12   0.92  0.424    F5V  18.340790            1\n",
       "39549  9.21   3.89   1.46  0.227   A1IV  17.159748            1\n",
       "39550  9.01   2.13   1.46  1.467  M5III  15.651898            0\n",
       "39551  9.12   3.82   0.79  0.480    F5V  17.030317            1\n",
       "\n",
       "[38311 rows x 7 columns]"
      ]
     },
     "execution_count": 26,
     "metadata": {},
     "output_type": "execute_result"
    }
   ],
   "source": [
    "df = df[df['Amag'] < upper]\n",
    "df"
   ]
  },
  {
   "cell_type": "code",
   "execution_count": 27,
   "metadata": {},
   "outputs": [
    {
     "data": {
      "text/html": [
       "<div>\n",
       "<style scoped>\n",
       "    .dataframe tbody tr th:only-of-type {\n",
       "        vertical-align: middle;\n",
       "    }\n",
       "\n",
       "    .dataframe tbody tr th {\n",
       "        vertical-align: top;\n",
       "    }\n",
       "\n",
       "    .dataframe thead th {\n",
       "        text-align: right;\n",
       "    }\n",
       "</style>\n",
       "<table border=\"1\" class=\"dataframe\">\n",
       "  <thead>\n",
       "    <tr style=\"text-align: right;\">\n",
       "      <th></th>\n",
       "      <th>Vmag</th>\n",
       "      <th>Plx</th>\n",
       "      <th>e_Plx</th>\n",
       "      <th>B-V</th>\n",
       "      <th>SpType</th>\n",
       "      <th>Amag</th>\n",
       "      <th>TargetClass</th>\n",
       "    </tr>\n",
       "  </thead>\n",
       "  <tbody>\n",
       "    <tr>\n",
       "      <td>1</td>\n",
       "      <td>8.26</td>\n",
       "      <td>3.21</td>\n",
       "      <td>1.00</td>\n",
       "      <td>1.130</td>\n",
       "      <td>K0III</td>\n",
       "      <td>15.792525</td>\n",
       "      <td>0</td>\n",
       "    </tr>\n",
       "    <tr>\n",
       "      <td>2</td>\n",
       "      <td>8.27</td>\n",
       "      <td>12.75</td>\n",
       "      <td>1.06</td>\n",
       "      <td>0.596</td>\n",
       "      <td>F9V</td>\n",
       "      <td>18.797552</td>\n",
       "      <td>1</td>\n",
       "    </tr>\n",
       "    <tr>\n",
       "      <td>3</td>\n",
       "      <td>6.54</td>\n",
       "      <td>5.23</td>\n",
       "      <td>0.76</td>\n",
       "      <td>1.189</td>\n",
       "      <td>K1III</td>\n",
       "      <td>15.132508</td>\n",
       "      <td>0</td>\n",
       "    </tr>\n",
       "    <tr>\n",
       "      <td>4</td>\n",
       "      <td>8.52</td>\n",
       "      <td>0.96</td>\n",
       "      <td>0.72</td>\n",
       "      <td>0.173</td>\n",
       "      <td>B8V</td>\n",
       "      <td>13.431356</td>\n",
       "      <td>1</td>\n",
       "    </tr>\n",
       "    <tr>\n",
       "      <td>5</td>\n",
       "      <td>6.09</td>\n",
       "      <td>6.02</td>\n",
       "      <td>0.95</td>\n",
       "      <td>0.040</td>\n",
       "      <td>B8IVn</td>\n",
       "      <td>14.987983</td>\n",
       "      <td>1</td>\n",
       "    </tr>\n",
       "    <tr>\n",
       "      <td>...</td>\n",
       "      <td>...</td>\n",
       "      <td>...</td>\n",
       "      <td>...</td>\n",
       "      <td>...</td>\n",
       "      <td>...</td>\n",
       "      <td>...</td>\n",
       "      <td>...</td>\n",
       "    </tr>\n",
       "    <tr>\n",
       "      <td>39546</td>\n",
       "      <td>8.36</td>\n",
       "      <td>2.44</td>\n",
       "      <td>0.85</td>\n",
       "      <td>1.087</td>\n",
       "      <td>K1III</td>\n",
       "      <td>15.296949</td>\n",
       "      <td>0</td>\n",
       "    </tr>\n",
       "    <tr>\n",
       "      <td>39548</td>\n",
       "      <td>7.05</td>\n",
       "      <td>18.12</td>\n",
       "      <td>0.92</td>\n",
       "      <td>0.424</td>\n",
       "      <td>F5V</td>\n",
       "      <td>18.340790</td>\n",
       "      <td>1</td>\n",
       "    </tr>\n",
       "    <tr>\n",
       "      <td>39549</td>\n",
       "      <td>9.21</td>\n",
       "      <td>3.89</td>\n",
       "      <td>1.46</td>\n",
       "      <td>0.227</td>\n",
       "      <td>A1IV</td>\n",
       "      <td>17.159748</td>\n",
       "      <td>1</td>\n",
       "    </tr>\n",
       "    <tr>\n",
       "      <td>39550</td>\n",
       "      <td>9.01</td>\n",
       "      <td>2.13</td>\n",
       "      <td>1.46</td>\n",
       "      <td>1.467</td>\n",
       "      <td>M5III</td>\n",
       "      <td>15.651898</td>\n",
       "      <td>0</td>\n",
       "    </tr>\n",
       "    <tr>\n",
       "      <td>39551</td>\n",
       "      <td>9.12</td>\n",
       "      <td>3.82</td>\n",
       "      <td>0.79</td>\n",
       "      <td>0.480</td>\n",
       "      <td>F5V</td>\n",
       "      <td>17.030317</td>\n",
       "      <td>1</td>\n",
       "    </tr>\n",
       "  </tbody>\n",
       "</table>\n",
       "<p>37421 rows × 7 columns</p>\n",
       "</div>"
      ],
      "text/plain": [
       "       Vmag    Plx  e_Plx    B-V SpType       Amag  TargetClass\n",
       "1      8.26   3.21   1.00  1.130  K0III  15.792525            0\n",
       "2      8.27  12.75   1.06  0.596    F9V  18.797552            1\n",
       "3      6.54   5.23   0.76  1.189  K1III  15.132508            0\n",
       "4      8.52   0.96   0.72  0.173    B8V  13.431356            1\n",
       "5      6.09   6.02   0.95  0.040  B8IVn  14.987983            1\n",
       "...     ...    ...    ...    ...    ...        ...          ...\n",
       "39546  8.36   2.44   0.85  1.087  K1III  15.296949            0\n",
       "39548  7.05  18.12   0.92  0.424    F5V  18.340790            1\n",
       "39549  9.21   3.89   1.46  0.227   A1IV  17.159748            1\n",
       "39550  9.01   2.13   1.46  1.467  M5III  15.651898            0\n",
       "39551  9.12   3.82   0.79  0.480    F5V  17.030317            1\n",
       "\n",
       "[37421 rows x 7 columns]"
      ]
     },
     "execution_count": 27,
     "metadata": {},
     "output_type": "execute_result"
    }
   ],
   "source": [
    "df = df[lower<df['Amag']]\n",
    "df"
   ]
  },
  {
   "cell_type": "code",
   "execution_count": 28,
   "metadata": {},
   "outputs": [
    {
     "data": {
      "text/plain": [
       "<matplotlib.axes._subplots.AxesSubplot at 0x18bfd24e948>"
      ]
     },
     "execution_count": 28,
     "metadata": {},
     "output_type": "execute_result"
    },
    {
     "data": {
      "image/png": "[encoded data removed]",
      "text/plain": [
       "<Figure size 432x288 with 1 Axes>"
      ]
     },
     "metadata": {
      "needs_background": "light"
     },
     "output_type": "display_data"
    }
   ],
   "source": [
    "sns.boxplot(df.Amag)"
   ]
  },
  {
   "cell_type": "code",
   "execution_count": 29,
   "metadata": {},
   "outputs": [
    {
     "data": {
      "text/plain": [
       "<matplotlib.axes._subplots.AxesSubplot at 0x18bfd5b8a88>"
      ]
     },
     "execution_count": 29,
     "metadata": {},
     "output_type": "execute_result"
    },
    {
     "data": {
      "image/png": "[encoded data removed]",
      "text/plain": [
       "<Figure size 432x288 with 1 Axes>"
      ]
     },
     "metadata": {
      "needs_background": "light"
     },
     "output_type": "display_data"
    }
   ],
   "source": [
    "sns.boxplot(df['B-V'])"
   ]
  },
  {
   "cell_type": "code",
   "execution_count": 30,
   "metadata": {},
   "outputs": [
    {
     "name": "stdout",
     "output_type": "stream",
     "text": [
      "-0.7569999999999998\n",
      "2.2429999999999994\n"
     ]
    }
   ],
   "source": [
    "q3= df['B-V'].quantile(q=0.75)\n",
    "q1= df['B-V'].quantile(q=0.25)\n",
    "Iqr = q3 - q1 \n",
    "upper = (q3 + 1.5 * Iqr) \n",
    "lower = (q1 - 1.5 * Iqr) \n",
    "print(lower)\n",
    "print(upper)"
   ]
  },
  {
   "cell_type": "code",
   "execution_count": 31,
   "metadata": {},
   "outputs": [
    {
     "data": {
      "text/html": [
       "<div>\n",
       "<style scoped>\n",
       "    .dataframe tbody tr th:only-of-type {\n",
       "        vertical-align: middle;\n",
       "    }\n",
       "\n",
       "    .dataframe tbody tr th {\n",
       "        vertical-align: top;\n",
       "    }\n",
       "\n",
       "    .dataframe thead th {\n",
       "        text-align: right;\n",
       "    }\n",
       "</style>\n",
       "<table border=\"1\" class=\"dataframe\">\n",
       "  <thead>\n",
       "    <tr style=\"text-align: right;\">\n",
       "      <th></th>\n",
       "      <th>Vmag</th>\n",
       "      <th>Plx</th>\n",
       "      <th>e_Plx</th>\n",
       "      <th>B-V</th>\n",
       "      <th>SpType</th>\n",
       "      <th>Amag</th>\n",
       "      <th>TargetClass</th>\n",
       "    </tr>\n",
       "  </thead>\n",
       "  <tbody>\n",
       "    <tr>\n",
       "      <td>1</td>\n",
       "      <td>8.26</td>\n",
       "      <td>3.21</td>\n",
       "      <td>1.00</td>\n",
       "      <td>1.130</td>\n",
       "      <td>K0III</td>\n",
       "      <td>15.792525</td>\n",
       "      <td>0</td>\n",
       "    </tr>\n",
       "    <tr>\n",
       "      <td>2</td>\n",
       "      <td>8.27</td>\n",
       "      <td>12.75</td>\n",
       "      <td>1.06</td>\n",
       "      <td>0.596</td>\n",
       "      <td>F9V</td>\n",
       "      <td>18.797552</td>\n",
       "      <td>1</td>\n",
       "    </tr>\n",
       "    <tr>\n",
       "      <td>3</td>\n",
       "      <td>6.54</td>\n",
       "      <td>5.23</td>\n",
       "      <td>0.76</td>\n",
       "      <td>1.189</td>\n",
       "      <td>K1III</td>\n",
       "      <td>15.132508</td>\n",
       "      <td>0</td>\n",
       "    </tr>\n",
       "    <tr>\n",
       "      <td>4</td>\n",
       "      <td>8.52</td>\n",
       "      <td>0.96</td>\n",
       "      <td>0.72</td>\n",
       "      <td>0.173</td>\n",
       "      <td>B8V</td>\n",
       "      <td>13.431356</td>\n",
       "      <td>1</td>\n",
       "    </tr>\n",
       "    <tr>\n",
       "      <td>5</td>\n",
       "      <td>6.09</td>\n",
       "      <td>6.02</td>\n",
       "      <td>0.95</td>\n",
       "      <td>0.040</td>\n",
       "      <td>B8IVn</td>\n",
       "      <td>14.987983</td>\n",
       "      <td>1</td>\n",
       "    </tr>\n",
       "    <tr>\n",
       "      <td>...</td>\n",
       "      <td>...</td>\n",
       "      <td>...</td>\n",
       "      <td>...</td>\n",
       "      <td>...</td>\n",
       "      <td>...</td>\n",
       "      <td>...</td>\n",
       "      <td>...</td>\n",
       "    </tr>\n",
       "    <tr>\n",
       "      <td>39546</td>\n",
       "      <td>8.36</td>\n",
       "      <td>2.44</td>\n",
       "      <td>0.85</td>\n",
       "      <td>1.087</td>\n",
       "      <td>K1III</td>\n",
       "      <td>15.296949</td>\n",
       "      <td>0</td>\n",
       "    </tr>\n",
       "    <tr>\n",
       "      <td>39548</td>\n",
       "      <td>7.05</td>\n",
       "      <td>18.12</td>\n",
       "      <td>0.92</td>\n",
       "      <td>0.424</td>\n",
       "      <td>F5V</td>\n",
       "      <td>18.340790</td>\n",
       "      <td>1</td>\n",
       "    </tr>\n",
       "    <tr>\n",
       "      <td>39549</td>\n",
       "      <td>9.21</td>\n",
       "      <td>3.89</td>\n",
       "      <td>1.46</td>\n",
       "      <td>0.227</td>\n",
       "      <td>A1IV</td>\n",
       "      <td>17.159748</td>\n",
       "      <td>1</td>\n",
       "    </tr>\n",
       "    <tr>\n",
       "      <td>39550</td>\n",
       "      <td>9.01</td>\n",
       "      <td>2.13</td>\n",
       "      <td>1.46</td>\n",
       "      <td>1.467</td>\n",
       "      <td>M5III</td>\n",
       "      <td>15.651898</td>\n",
       "      <td>0</td>\n",
       "    </tr>\n",
       "    <tr>\n",
       "      <td>39551</td>\n",
       "      <td>9.12</td>\n",
       "      <td>3.82</td>\n",
       "      <td>0.79</td>\n",
       "      <td>0.480</td>\n",
       "      <td>F5V</td>\n",
       "      <td>17.030317</td>\n",
       "      <td>1</td>\n",
       "    </tr>\n",
       "  </tbody>\n",
       "</table>\n",
       "<p>37362 rows × 7 columns</p>\n",
       "</div>"
      ],
      "text/plain": [
       "       Vmag    Plx  e_Plx    B-V SpType       Amag  TargetClass\n",
       "1      8.26   3.21   1.00  1.130  K0III  15.792525            0\n",
       "2      8.27  12.75   1.06  0.596    F9V  18.797552            1\n",
       "3      6.54   5.23   0.76  1.189  K1III  15.132508            0\n",
       "4      8.52   0.96   0.72  0.173    B8V  13.431356            1\n",
       "5      6.09   6.02   0.95  0.040  B8IVn  14.987983            1\n",
       "...     ...    ...    ...    ...    ...        ...          ...\n",
       "39546  8.36   2.44   0.85  1.087  K1III  15.296949            0\n",
       "39548  7.05  18.12   0.92  0.424    F5V  18.340790            1\n",
       "39549  9.21   3.89   1.46  0.227   A1IV  17.159748            1\n",
       "39550  9.01   2.13   1.46  1.467  M5III  15.651898            0\n",
       "39551  9.12   3.82   0.79  0.480    F5V  17.030317            1\n",
       "\n",
       "[37362 rows x 7 columns]"
      ]
     },
     "execution_count": 31,
     "metadata": {},
     "output_type": "execute_result"
    }
   ],
   "source": [
    "df = df[ df['B-V'] < upper]\n",
    "df"
   ]
  },
  {
   "cell_type": "code",
   "execution_count": 32,
   "metadata": {},
   "outputs": [
    {
     "data": {
      "text/html": [
       "<div>\n",
       "<style scoped>\n",
       "    .dataframe tbody tr th:only-of-type {\n",
       "        vertical-align: middle;\n",
       "    }\n",
       "\n",
       "    .dataframe tbody tr th {\n",
       "        vertical-align: top;\n",
       "    }\n",
       "\n",
       "    .dataframe thead th {\n",
       "        text-align: right;\n",
       "    }\n",
       "</style>\n",
       "<table border=\"1\" class=\"dataframe\">\n",
       "  <thead>\n",
       "    <tr style=\"text-align: right;\">\n",
       "      <th></th>\n",
       "      <th>Vmag</th>\n",
       "      <th>Plx</th>\n",
       "      <th>e_Plx</th>\n",
       "      <th>B-V</th>\n",
       "      <th>SpType</th>\n",
       "      <th>Amag</th>\n",
       "      <th>TargetClass</th>\n",
       "    </tr>\n",
       "  </thead>\n",
       "  <tbody>\n",
       "    <tr>\n",
       "      <td>1</td>\n",
       "      <td>8.26</td>\n",
       "      <td>3.21</td>\n",
       "      <td>1.00</td>\n",
       "      <td>1.130</td>\n",
       "      <td>K0III</td>\n",
       "      <td>15.792525</td>\n",
       "      <td>0</td>\n",
       "    </tr>\n",
       "    <tr>\n",
       "      <td>2</td>\n",
       "      <td>8.27</td>\n",
       "      <td>12.75</td>\n",
       "      <td>1.06</td>\n",
       "      <td>0.596</td>\n",
       "      <td>F9V</td>\n",
       "      <td>18.797552</td>\n",
       "      <td>1</td>\n",
       "    </tr>\n",
       "    <tr>\n",
       "      <td>3</td>\n",
       "      <td>6.54</td>\n",
       "      <td>5.23</td>\n",
       "      <td>0.76</td>\n",
       "      <td>1.189</td>\n",
       "      <td>K1III</td>\n",
       "      <td>15.132508</td>\n",
       "      <td>0</td>\n",
       "    </tr>\n",
       "    <tr>\n",
       "      <td>4</td>\n",
       "      <td>8.52</td>\n",
       "      <td>0.96</td>\n",
       "      <td>0.72</td>\n",
       "      <td>0.173</td>\n",
       "      <td>B8V</td>\n",
       "      <td>13.431356</td>\n",
       "      <td>1</td>\n",
       "    </tr>\n",
       "    <tr>\n",
       "      <td>5</td>\n",
       "      <td>6.09</td>\n",
       "      <td>6.02</td>\n",
       "      <td>0.95</td>\n",
       "      <td>0.040</td>\n",
       "      <td>B8IVn</td>\n",
       "      <td>14.987983</td>\n",
       "      <td>1</td>\n",
       "    </tr>\n",
       "    <tr>\n",
       "      <td>...</td>\n",
       "      <td>...</td>\n",
       "      <td>...</td>\n",
       "      <td>...</td>\n",
       "      <td>...</td>\n",
       "      <td>...</td>\n",
       "      <td>...</td>\n",
       "      <td>...</td>\n",
       "    </tr>\n",
       "    <tr>\n",
       "      <td>39546</td>\n",
       "      <td>8.36</td>\n",
       "      <td>2.44</td>\n",
       "      <td>0.85</td>\n",
       "      <td>1.087</td>\n",
       "      <td>K1III</td>\n",
       "      <td>15.296949</td>\n",
       "      <td>0</td>\n",
       "    </tr>\n",
       "    <tr>\n",
       "      <td>39548</td>\n",
       "      <td>7.05</td>\n",
       "      <td>18.12</td>\n",
       "      <td>0.92</td>\n",
       "      <td>0.424</td>\n",
       "      <td>F5V</td>\n",
       "      <td>18.340790</td>\n",
       "      <td>1</td>\n",
       "    </tr>\n",
       "    <tr>\n",
       "      <td>39549</td>\n",
       "      <td>9.21</td>\n",
       "      <td>3.89</td>\n",
       "      <td>1.46</td>\n",
       "      <td>0.227</td>\n",
       "      <td>A1IV</td>\n",
       "      <td>17.159748</td>\n",
       "      <td>1</td>\n",
       "    </tr>\n",
       "    <tr>\n",
       "      <td>39550</td>\n",
       "      <td>9.01</td>\n",
       "      <td>2.13</td>\n",
       "      <td>1.46</td>\n",
       "      <td>1.467</td>\n",
       "      <td>M5III</td>\n",
       "      <td>15.651898</td>\n",
       "      <td>0</td>\n",
       "    </tr>\n",
       "    <tr>\n",
       "      <td>39551</td>\n",
       "      <td>9.12</td>\n",
       "      <td>3.82</td>\n",
       "      <td>0.79</td>\n",
       "      <td>0.480</td>\n",
       "      <td>F5V</td>\n",
       "      <td>17.030317</td>\n",
       "      <td>1</td>\n",
       "    </tr>\n",
       "  </tbody>\n",
       "</table>\n",
       "<p>37362 rows × 7 columns</p>\n",
       "</div>"
      ],
      "text/plain": [
       "       Vmag    Plx  e_Plx    B-V SpType       Amag  TargetClass\n",
       "1      8.26   3.21   1.00  1.130  K0III  15.792525            0\n",
       "2      8.27  12.75   1.06  0.596    F9V  18.797552            1\n",
       "3      6.54   5.23   0.76  1.189  K1III  15.132508            0\n",
       "4      8.52   0.96   0.72  0.173    B8V  13.431356            1\n",
       "5      6.09   6.02   0.95  0.040  B8IVn  14.987983            1\n",
       "...     ...    ...    ...    ...    ...        ...          ...\n",
       "39546  8.36   2.44   0.85  1.087  K1III  15.296949            0\n",
       "39548  7.05  18.12   0.92  0.424    F5V  18.340790            1\n",
       "39549  9.21   3.89   1.46  0.227   A1IV  17.159748            1\n",
       "39550  9.01   2.13   1.46  1.467  M5III  15.651898            0\n",
       "39551  9.12   3.82   0.79  0.480    F5V  17.030317            1\n",
       "\n",
       "[37362 rows x 7 columns]"
      ]
     },
     "execution_count": 32,
     "metadata": {},
     "output_type": "execute_result"
    }
   ],
   "source": [
    "df = df[lower< df['B-V']]\n",
    "df\n"
   ]
  },
  {
   "cell_type": "code",
   "execution_count": 33,
   "metadata": {},
   "outputs": [
    {
     "data": {
      "text/plain": [
       "<matplotlib.axes._subplots.AxesSubplot at 0x18bfd61bec8>"
      ]
     },
     "execution_count": 33,
     "metadata": {},
     "output_type": "execute_result"
    },
    {
     "data": {
      "image/png": "[encoded data removed]",
      "text/plain": [
       "<Figure size 432x288 with 1 Axes>"
      ]
     },
     "metadata": {
      "needs_background": "light"
     },
     "output_type": "display_data"
    }
   ],
   "source": [
    "sns.boxplot(df['B-V'])"
   ]
  },
  {
   "cell_type": "code",
   "execution_count": 34,
   "metadata": {},
   "outputs": [
    {
     "data": {
      "text/plain": [
       "<matplotlib.axes._subplots.AxesSubplot at 0x18bfe9603c8>"
      ]
     },
     "execution_count": 34,
     "metadata": {},
     "output_type": "execute_result"
    },
    {
     "data": {
      "image/png": "[encoded data removed]",
      "text/plain": [
       "<Figure size 432x288 with 1 Axes>"
      ]
     },
     "metadata": {
      "needs_background": "light"
     },
     "output_type": "display_data"
    }
   ],
   "source": [
    "sns.boxplot(df['e_Plx'])"
   ]
  },
  {
   "cell_type": "code",
   "execution_count": 35,
   "metadata": {},
   "outputs": [
    {
     "name": "stdout",
     "output_type": "stream",
     "text": [
      "0.15500000000000014\n",
      "1.875\n"
     ]
    }
   ],
   "source": [
    "q3= df['e_Plx'].quantile(q=0.75)\n",
    "q1= df['e_Plx'].quantile(q=0.25)\n",
    "Iqr = q3 - q1 \n",
    "upper = (q3 + 1.5 * Iqr) \n",
    "lower = (q1 - 1.5 * Iqr) \n",
    "print(lower)\n",
    "print(upper)"
   ]
  },
  {
   "cell_type": "code",
   "execution_count": 36,
   "metadata": {},
   "outputs": [
    {
     "data": {
      "text/html": [
       "<div>\n",
       "<style scoped>\n",
       "    .dataframe tbody tr th:only-of-type {\n",
       "        vertical-align: middle;\n",
       "    }\n",
       "\n",
       "    .dataframe tbody tr th {\n",
       "        vertical-align: top;\n",
       "    }\n",
       "\n",
       "    .dataframe thead th {\n",
       "        text-align: right;\n",
       "    }\n",
       "</style>\n",
       "<table border=\"1\" class=\"dataframe\">\n",
       "  <thead>\n",
       "    <tr style=\"text-align: right;\">\n",
       "      <th></th>\n",
       "      <th>Vmag</th>\n",
       "      <th>Plx</th>\n",
       "      <th>e_Plx</th>\n",
       "      <th>B-V</th>\n",
       "      <th>SpType</th>\n",
       "      <th>Amag</th>\n",
       "      <th>TargetClass</th>\n",
       "    </tr>\n",
       "  </thead>\n",
       "  <tbody>\n",
       "    <tr>\n",
       "      <td>1</td>\n",
       "      <td>8.26</td>\n",
       "      <td>3.21</td>\n",
       "      <td>1.00</td>\n",
       "      <td>1.130</td>\n",
       "      <td>K0III</td>\n",
       "      <td>15.792525</td>\n",
       "      <td>0</td>\n",
       "    </tr>\n",
       "    <tr>\n",
       "      <td>2</td>\n",
       "      <td>8.27</td>\n",
       "      <td>12.75</td>\n",
       "      <td>1.06</td>\n",
       "      <td>0.596</td>\n",
       "      <td>F9V</td>\n",
       "      <td>18.797552</td>\n",
       "      <td>1</td>\n",
       "    </tr>\n",
       "    <tr>\n",
       "      <td>3</td>\n",
       "      <td>6.54</td>\n",
       "      <td>5.23</td>\n",
       "      <td>0.76</td>\n",
       "      <td>1.189</td>\n",
       "      <td>K1III</td>\n",
       "      <td>15.132508</td>\n",
       "      <td>0</td>\n",
       "    </tr>\n",
       "    <tr>\n",
       "      <td>4</td>\n",
       "      <td>8.52</td>\n",
       "      <td>0.96</td>\n",
       "      <td>0.72</td>\n",
       "      <td>0.173</td>\n",
       "      <td>B8V</td>\n",
       "      <td>13.431356</td>\n",
       "      <td>1</td>\n",
       "    </tr>\n",
       "    <tr>\n",
       "      <td>5</td>\n",
       "      <td>6.09</td>\n",
       "      <td>6.02</td>\n",
       "      <td>0.95</td>\n",
       "      <td>0.040</td>\n",
       "      <td>B8IVn</td>\n",
       "      <td>14.987983</td>\n",
       "      <td>1</td>\n",
       "    </tr>\n",
       "    <tr>\n",
       "      <td>...</td>\n",
       "      <td>...</td>\n",
       "      <td>...</td>\n",
       "      <td>...</td>\n",
       "      <td>...</td>\n",
       "      <td>...</td>\n",
       "      <td>...</td>\n",
       "      <td>...</td>\n",
       "    </tr>\n",
       "    <tr>\n",
       "      <td>39546</td>\n",
       "      <td>8.36</td>\n",
       "      <td>2.44</td>\n",
       "      <td>0.85</td>\n",
       "      <td>1.087</td>\n",
       "      <td>K1III</td>\n",
       "      <td>15.296949</td>\n",
       "      <td>0</td>\n",
       "    </tr>\n",
       "    <tr>\n",
       "      <td>39548</td>\n",
       "      <td>7.05</td>\n",
       "      <td>18.12</td>\n",
       "      <td>0.92</td>\n",
       "      <td>0.424</td>\n",
       "      <td>F5V</td>\n",
       "      <td>18.340790</td>\n",
       "      <td>1</td>\n",
       "    </tr>\n",
       "    <tr>\n",
       "      <td>39549</td>\n",
       "      <td>9.21</td>\n",
       "      <td>3.89</td>\n",
       "      <td>1.46</td>\n",
       "      <td>0.227</td>\n",
       "      <td>A1IV</td>\n",
       "      <td>17.159748</td>\n",
       "      <td>1</td>\n",
       "    </tr>\n",
       "    <tr>\n",
       "      <td>39550</td>\n",
       "      <td>9.01</td>\n",
       "      <td>2.13</td>\n",
       "      <td>1.46</td>\n",
       "      <td>1.467</td>\n",
       "      <td>M5III</td>\n",
       "      <td>15.651898</td>\n",
       "      <td>0</td>\n",
       "    </tr>\n",
       "    <tr>\n",
       "      <td>39551</td>\n",
       "      <td>9.12</td>\n",
       "      <td>3.82</td>\n",
       "      <td>0.79</td>\n",
       "      <td>0.480</td>\n",
       "      <td>F5V</td>\n",
       "      <td>17.030317</td>\n",
       "      <td>1</td>\n",
       "    </tr>\n",
       "  </tbody>\n",
       "</table>\n",
       "<p>35670 rows × 7 columns</p>\n",
       "</div>"
      ],
      "text/plain": [
       "       Vmag    Plx  e_Plx    B-V SpType       Amag  TargetClass\n",
       "1      8.26   3.21   1.00  1.130  K0III  15.792525            0\n",
       "2      8.27  12.75   1.06  0.596    F9V  18.797552            1\n",
       "3      6.54   5.23   0.76  1.189  K1III  15.132508            0\n",
       "4      8.52   0.96   0.72  0.173    B8V  13.431356            1\n",
       "5      6.09   6.02   0.95  0.040  B8IVn  14.987983            1\n",
       "...     ...    ...    ...    ...    ...        ...          ...\n",
       "39546  8.36   2.44   0.85  1.087  K1III  15.296949            0\n",
       "39548  7.05  18.12   0.92  0.424    F5V  18.340790            1\n",
       "39549  9.21   3.89   1.46  0.227   A1IV  17.159748            1\n",
       "39550  9.01   2.13   1.46  1.467  M5III  15.651898            0\n",
       "39551  9.12   3.82   0.79  0.480    F5V  17.030317            1\n",
       "\n",
       "[35670 rows x 7 columns]"
      ]
     },
     "execution_count": 36,
     "metadata": {},
     "output_type": "execute_result"
    }
   ],
   "source": [
    "df = df[ df['e_Plx'] < upper]\n",
    "df"
   ]
  },
  {
   "cell_type": "code",
   "execution_count": 37,
   "metadata": {},
   "outputs": [
    {
     "data": {
      "text/html": [
       "<div>\n",
       "<style scoped>\n",
       "    .dataframe tbody tr th:only-of-type {\n",
       "        vertical-align: middle;\n",
       "    }\n",
       "\n",
       "    .dataframe tbody tr th {\n",
       "        vertical-align: top;\n",
       "    }\n",
       "\n",
       "    .dataframe thead th {\n",
       "        text-align: right;\n",
       "    }\n",
       "</style>\n",
       "<table border=\"1\" class=\"dataframe\">\n",
       "  <thead>\n",
       "    <tr style=\"text-align: right;\">\n",
       "      <th></th>\n",
       "      <th>Vmag</th>\n",
       "      <th>Plx</th>\n",
       "      <th>e_Plx</th>\n",
       "      <th>B-V</th>\n",
       "      <th>SpType</th>\n",
       "      <th>Amag</th>\n",
       "      <th>TargetClass</th>\n",
       "    </tr>\n",
       "  </thead>\n",
       "  <tbody>\n",
       "    <tr>\n",
       "      <td>1</td>\n",
       "      <td>8.26</td>\n",
       "      <td>3.21</td>\n",
       "      <td>1.00</td>\n",
       "      <td>1.130</td>\n",
       "      <td>K0III</td>\n",
       "      <td>15.792525</td>\n",
       "      <td>0</td>\n",
       "    </tr>\n",
       "    <tr>\n",
       "      <td>2</td>\n",
       "      <td>8.27</td>\n",
       "      <td>12.75</td>\n",
       "      <td>1.06</td>\n",
       "      <td>0.596</td>\n",
       "      <td>F9V</td>\n",
       "      <td>18.797552</td>\n",
       "      <td>1</td>\n",
       "    </tr>\n",
       "    <tr>\n",
       "      <td>3</td>\n",
       "      <td>6.54</td>\n",
       "      <td>5.23</td>\n",
       "      <td>0.76</td>\n",
       "      <td>1.189</td>\n",
       "      <td>K1III</td>\n",
       "      <td>15.132508</td>\n",
       "      <td>0</td>\n",
       "    </tr>\n",
       "    <tr>\n",
       "      <td>4</td>\n",
       "      <td>8.52</td>\n",
       "      <td>0.96</td>\n",
       "      <td>0.72</td>\n",
       "      <td>0.173</td>\n",
       "      <td>B8V</td>\n",
       "      <td>13.431356</td>\n",
       "      <td>1</td>\n",
       "    </tr>\n",
       "    <tr>\n",
       "      <td>5</td>\n",
       "      <td>6.09</td>\n",
       "      <td>6.02</td>\n",
       "      <td>0.95</td>\n",
       "      <td>0.040</td>\n",
       "      <td>B8IVn</td>\n",
       "      <td>14.987983</td>\n",
       "      <td>1</td>\n",
       "    </tr>\n",
       "    <tr>\n",
       "      <td>...</td>\n",
       "      <td>...</td>\n",
       "      <td>...</td>\n",
       "      <td>...</td>\n",
       "      <td>...</td>\n",
       "      <td>...</td>\n",
       "      <td>...</td>\n",
       "      <td>...</td>\n",
       "    </tr>\n",
       "    <tr>\n",
       "      <td>39546</td>\n",
       "      <td>8.36</td>\n",
       "      <td>2.44</td>\n",
       "      <td>0.85</td>\n",
       "      <td>1.087</td>\n",
       "      <td>K1III</td>\n",
       "      <td>15.296949</td>\n",
       "      <td>0</td>\n",
       "    </tr>\n",
       "    <tr>\n",
       "      <td>39548</td>\n",
       "      <td>7.05</td>\n",
       "      <td>18.12</td>\n",
       "      <td>0.92</td>\n",
       "      <td>0.424</td>\n",
       "      <td>F5V</td>\n",
       "      <td>18.340790</td>\n",
       "      <td>1</td>\n",
       "    </tr>\n",
       "    <tr>\n",
       "      <td>39549</td>\n",
       "      <td>9.21</td>\n",
       "      <td>3.89</td>\n",
       "      <td>1.46</td>\n",
       "      <td>0.227</td>\n",
       "      <td>A1IV</td>\n",
       "      <td>17.159748</td>\n",
       "      <td>1</td>\n",
       "    </tr>\n",
       "    <tr>\n",
       "      <td>39550</td>\n",
       "      <td>9.01</td>\n",
       "      <td>2.13</td>\n",
       "      <td>1.46</td>\n",
       "      <td>1.467</td>\n",
       "      <td>M5III</td>\n",
       "      <td>15.651898</td>\n",
       "      <td>0</td>\n",
       "    </tr>\n",
       "    <tr>\n",
       "      <td>39551</td>\n",
       "      <td>9.12</td>\n",
       "      <td>3.82</td>\n",
       "      <td>0.79</td>\n",
       "      <td>0.480</td>\n",
       "      <td>F5V</td>\n",
       "      <td>17.030317</td>\n",
       "      <td>1</td>\n",
       "    </tr>\n",
       "  </tbody>\n",
       "</table>\n",
       "<p>35670 rows × 7 columns</p>\n",
       "</div>"
      ],
      "text/plain": [
       "       Vmag    Plx  e_Plx    B-V SpType       Amag  TargetClass\n",
       "1      8.26   3.21   1.00  1.130  K0III  15.792525            0\n",
       "2      8.27  12.75   1.06  0.596    F9V  18.797552            1\n",
       "3      6.54   5.23   0.76  1.189  K1III  15.132508            0\n",
       "4      8.52   0.96   0.72  0.173    B8V  13.431356            1\n",
       "5      6.09   6.02   0.95  0.040  B8IVn  14.987983            1\n",
       "...     ...    ...    ...    ...    ...        ...          ...\n",
       "39546  8.36   2.44   0.85  1.087  K1III  15.296949            0\n",
       "39548  7.05  18.12   0.92  0.424    F5V  18.340790            1\n",
       "39549  9.21   3.89   1.46  0.227   A1IV  17.159748            1\n",
       "39550  9.01   2.13   1.46  1.467  M5III  15.651898            0\n",
       "39551  9.12   3.82   0.79  0.480    F5V  17.030317            1\n",
       "\n",
       "[35670 rows x 7 columns]"
      ]
     },
     "execution_count": 37,
     "metadata": {},
     "output_type": "execute_result"
    }
   ],
   "source": [
    "df = df[lower< df['e_Plx']]\n",
    "df\n"
   ]
  },
  {
   "cell_type": "code",
   "execution_count": 38,
   "metadata": {},
   "outputs": [
    {
     "data": {
      "text/plain": [
       "<matplotlib.axes._subplots.AxesSubplot at 0x18bfe9c5708>"
      ]
     },
     "execution_count": 38,
     "metadata": {},
     "output_type": "execute_result"
    },
    {
     "data": {
      "image/png": "[encoded data removed]",
      "text/plain": [
       "<Figure size 432x288 with 1 Axes>"
      ]
     },
     "metadata": {
      "needs_background": "light"
     },
     "output_type": "display_data"
    }
   ],
   "source": [
    "sns.boxplot(df['e_Plx'])"
   ]
  },
  {
   "cell_type": "code",
   "execution_count": 39,
   "metadata": {},
   "outputs": [
    {
     "data": {
      "text/plain": [
       "<matplotlib.axes._subplots.AxesSubplot at 0x18bfed10908>"
      ]
     },
     "execution_count": 39,
     "metadata": {},
     "output_type": "execute_result"
    },
    {
     "data": {
      "image/png": "[encoded data removed]",
      "text/plain": [
       "<Figure size 432x288 with 1 Axes>"
      ]
     },
     "metadata": {
      "needs_background": "light"
     },
     "output_type": "display_data"
    }
   ],
   "source": [
    "sns.boxplot(df['Plx'])"
   ]
  },
  {
   "cell_type": "code",
   "execution_count": 40,
   "metadata": {},
   "outputs": [
    {
     "name": "stdout",
     "output_type": "stream",
     "text": [
      "-5.63125\n",
      "16.07875\n"
     ]
    }
   ],
   "source": [
    "q3= df['Plx'].quantile(q=0.75)\n",
    "q1= df['Plx'].quantile(q=0.25)\n",
    "Iqr = q3 - q1 \n",
    "upper = (q3 + 1.5 * Iqr) \n",
    "lower = (q1 - 1.5 * Iqr) \n",
    "print(lower)\n",
    "print(upper)"
   ]
  },
  {
   "cell_type": "code",
   "execution_count": 41,
   "metadata": {},
   "outputs": [
    {
     "data": {
      "text/html": [
       "<div>\n",
       "<style scoped>\n",
       "    .dataframe tbody tr th:only-of-type {\n",
       "        vertical-align: middle;\n",
       "    }\n",
       "\n",
       "    .dataframe tbody tr th {\n",
       "        vertical-align: top;\n",
       "    }\n",
       "\n",
       "    .dataframe thead th {\n",
       "        text-align: right;\n",
       "    }\n",
       "</style>\n",
       "<table border=\"1\" class=\"dataframe\">\n",
       "  <thead>\n",
       "    <tr style=\"text-align: right;\">\n",
       "      <th></th>\n",
       "      <th>Vmag</th>\n",
       "      <th>Plx</th>\n",
       "      <th>e_Plx</th>\n",
       "      <th>B-V</th>\n",
       "      <th>SpType</th>\n",
       "      <th>Amag</th>\n",
       "      <th>TargetClass</th>\n",
       "    </tr>\n",
       "  </thead>\n",
       "  <tbody>\n",
       "    <tr>\n",
       "      <td>1</td>\n",
       "      <td>8.26</td>\n",
       "      <td>3.21</td>\n",
       "      <td>1.00</td>\n",
       "      <td>1.130</td>\n",
       "      <td>K0III</td>\n",
       "      <td>15.792525</td>\n",
       "      <td>0</td>\n",
       "    </tr>\n",
       "    <tr>\n",
       "      <td>2</td>\n",
       "      <td>8.27</td>\n",
       "      <td>12.75</td>\n",
       "      <td>1.06</td>\n",
       "      <td>0.596</td>\n",
       "      <td>F9V</td>\n",
       "      <td>18.797552</td>\n",
       "      <td>1</td>\n",
       "    </tr>\n",
       "    <tr>\n",
       "      <td>3</td>\n",
       "      <td>6.54</td>\n",
       "      <td>5.23</td>\n",
       "      <td>0.76</td>\n",
       "      <td>1.189</td>\n",
       "      <td>K1III</td>\n",
       "      <td>15.132508</td>\n",
       "      <td>0</td>\n",
       "    </tr>\n",
       "    <tr>\n",
       "      <td>4</td>\n",
       "      <td>8.52</td>\n",
       "      <td>0.96</td>\n",
       "      <td>0.72</td>\n",
       "      <td>0.173</td>\n",
       "      <td>B8V</td>\n",
       "      <td>13.431356</td>\n",
       "      <td>1</td>\n",
       "    </tr>\n",
       "    <tr>\n",
       "      <td>5</td>\n",
       "      <td>6.09</td>\n",
       "      <td>6.02</td>\n",
       "      <td>0.95</td>\n",
       "      <td>0.040</td>\n",
       "      <td>B8IVn</td>\n",
       "      <td>14.987983</td>\n",
       "      <td>1</td>\n",
       "    </tr>\n",
       "    <tr>\n",
       "      <td>...</td>\n",
       "      <td>...</td>\n",
       "      <td>...</td>\n",
       "      <td>...</td>\n",
       "      <td>...</td>\n",
       "      <td>...</td>\n",
       "      <td>...</td>\n",
       "      <td>...</td>\n",
       "    </tr>\n",
       "    <tr>\n",
       "      <td>39545</td>\n",
       "      <td>7.86</td>\n",
       "      <td>1.58</td>\n",
       "      <td>0.98</td>\n",
       "      <td>1.341</td>\n",
       "      <td>K2III</td>\n",
       "      <td>13.853286</td>\n",
       "      <td>0</td>\n",
       "    </tr>\n",
       "    <tr>\n",
       "      <td>39546</td>\n",
       "      <td>8.36</td>\n",
       "      <td>2.44</td>\n",
       "      <td>0.85</td>\n",
       "      <td>1.087</td>\n",
       "      <td>K1III</td>\n",
       "      <td>15.296949</td>\n",
       "      <td>0</td>\n",
       "    </tr>\n",
       "    <tr>\n",
       "      <td>39549</td>\n",
       "      <td>9.21</td>\n",
       "      <td>3.89</td>\n",
       "      <td>1.46</td>\n",
       "      <td>0.227</td>\n",
       "      <td>A1IV</td>\n",
       "      <td>17.159748</td>\n",
       "      <td>1</td>\n",
       "    </tr>\n",
       "    <tr>\n",
       "      <td>39550</td>\n",
       "      <td>9.01</td>\n",
       "      <td>2.13</td>\n",
       "      <td>1.46</td>\n",
       "      <td>1.467</td>\n",
       "      <td>M5III</td>\n",
       "      <td>15.651898</td>\n",
       "      <td>0</td>\n",
       "    </tr>\n",
       "    <tr>\n",
       "      <td>39551</td>\n",
       "      <td>9.12</td>\n",
       "      <td>3.82</td>\n",
       "      <td>0.79</td>\n",
       "      <td>0.480</td>\n",
       "      <td>F5V</td>\n",
       "      <td>17.030317</td>\n",
       "      <td>1</td>\n",
       "    </tr>\n",
       "  </tbody>\n",
       "</table>\n",
       "<p>33176 rows × 7 columns</p>\n",
       "</div>"
      ],
      "text/plain": [
       "       Vmag    Plx  e_Plx    B-V SpType       Amag  TargetClass\n",
       "1      8.26   3.21   1.00  1.130  K0III  15.792525            0\n",
       "2      8.27  12.75   1.06  0.596    F9V  18.797552            1\n",
       "3      6.54   5.23   0.76  1.189  K1III  15.132508            0\n",
       "4      8.52   0.96   0.72  0.173    B8V  13.431356            1\n",
       "5      6.09   6.02   0.95  0.040  B8IVn  14.987983            1\n",
       "...     ...    ...    ...    ...    ...        ...          ...\n",
       "39545  7.86   1.58   0.98  1.341  K2III  13.853286            0\n",
       "39546  8.36   2.44   0.85  1.087  K1III  15.296949            0\n",
       "39549  9.21   3.89   1.46  0.227   A1IV  17.159748            1\n",
       "39550  9.01   2.13   1.46  1.467  M5III  15.651898            0\n",
       "39551  9.12   3.82   0.79  0.480    F5V  17.030317            1\n",
       "\n",
       "[33176 rows x 7 columns]"
      ]
     },
     "execution_count": 41,
     "metadata": {},
     "output_type": "execute_result"
    }
   ],
   "source": [
    "df = df[ df['Plx'] < upper]\n",
    "df"
   ]
  },
  {
   "cell_type": "code",
   "execution_count": 42,
   "metadata": {},
   "outputs": [
    {
     "data": {
      "text/html": [
       "<div>\n",
       "<style scoped>\n",
       "    .dataframe tbody tr th:only-of-type {\n",
       "        vertical-align: middle;\n",
       "    }\n",
       "\n",
       "    .dataframe tbody tr th {\n",
       "        vertical-align: top;\n",
       "    }\n",
       "\n",
       "    .dataframe thead th {\n",
       "        text-align: right;\n",
       "    }\n",
       "</style>\n",
       "<table border=\"1\" class=\"dataframe\">\n",
       "  <thead>\n",
       "    <tr style=\"text-align: right;\">\n",
       "      <th></th>\n",
       "      <th>Vmag</th>\n",
       "      <th>Plx</th>\n",
       "      <th>e_Plx</th>\n",
       "      <th>B-V</th>\n",
       "      <th>SpType</th>\n",
       "      <th>Amag</th>\n",
       "      <th>TargetClass</th>\n",
       "    </tr>\n",
       "  </thead>\n",
       "  <tbody>\n",
       "    <tr>\n",
       "      <td>1</td>\n",
       "      <td>8.26</td>\n",
       "      <td>3.21</td>\n",
       "      <td>1.00</td>\n",
       "      <td>1.130</td>\n",
       "      <td>K0III</td>\n",
       "      <td>15.792525</td>\n",
       "      <td>0</td>\n",
       "    </tr>\n",
       "    <tr>\n",
       "      <td>2</td>\n",
       "      <td>8.27</td>\n",
       "      <td>12.75</td>\n",
       "      <td>1.06</td>\n",
       "      <td>0.596</td>\n",
       "      <td>F9V</td>\n",
       "      <td>18.797552</td>\n",
       "      <td>1</td>\n",
       "    </tr>\n",
       "    <tr>\n",
       "      <td>3</td>\n",
       "      <td>6.54</td>\n",
       "      <td>5.23</td>\n",
       "      <td>0.76</td>\n",
       "      <td>1.189</td>\n",
       "      <td>K1III</td>\n",
       "      <td>15.132508</td>\n",
       "      <td>0</td>\n",
       "    </tr>\n",
       "    <tr>\n",
       "      <td>4</td>\n",
       "      <td>8.52</td>\n",
       "      <td>0.96</td>\n",
       "      <td>0.72</td>\n",
       "      <td>0.173</td>\n",
       "      <td>B8V</td>\n",
       "      <td>13.431356</td>\n",
       "      <td>1</td>\n",
       "    </tr>\n",
       "    <tr>\n",
       "      <td>5</td>\n",
       "      <td>6.09</td>\n",
       "      <td>6.02</td>\n",
       "      <td>0.95</td>\n",
       "      <td>0.040</td>\n",
       "      <td>B8IVn</td>\n",
       "      <td>14.987983</td>\n",
       "      <td>1</td>\n",
       "    </tr>\n",
       "    <tr>\n",
       "      <td>...</td>\n",
       "      <td>...</td>\n",
       "      <td>...</td>\n",
       "      <td>...</td>\n",
       "      <td>...</td>\n",
       "      <td>...</td>\n",
       "      <td>...</td>\n",
       "      <td>...</td>\n",
       "    </tr>\n",
       "    <tr>\n",
       "      <td>39545</td>\n",
       "      <td>7.86</td>\n",
       "      <td>1.58</td>\n",
       "      <td>0.98</td>\n",
       "      <td>1.341</td>\n",
       "      <td>K2III</td>\n",
       "      <td>13.853286</td>\n",
       "      <td>0</td>\n",
       "    </tr>\n",
       "    <tr>\n",
       "      <td>39546</td>\n",
       "      <td>8.36</td>\n",
       "      <td>2.44</td>\n",
       "      <td>0.85</td>\n",
       "      <td>1.087</td>\n",
       "      <td>K1III</td>\n",
       "      <td>15.296949</td>\n",
       "      <td>0</td>\n",
       "    </tr>\n",
       "    <tr>\n",
       "      <td>39549</td>\n",
       "      <td>9.21</td>\n",
       "      <td>3.89</td>\n",
       "      <td>1.46</td>\n",
       "      <td>0.227</td>\n",
       "      <td>A1IV</td>\n",
       "      <td>17.159748</td>\n",
       "      <td>1</td>\n",
       "    </tr>\n",
       "    <tr>\n",
       "      <td>39550</td>\n",
       "      <td>9.01</td>\n",
       "      <td>2.13</td>\n",
       "      <td>1.46</td>\n",
       "      <td>1.467</td>\n",
       "      <td>M5III</td>\n",
       "      <td>15.651898</td>\n",
       "      <td>0</td>\n",
       "    </tr>\n",
       "    <tr>\n",
       "      <td>39551</td>\n",
       "      <td>9.12</td>\n",
       "      <td>3.82</td>\n",
       "      <td>0.79</td>\n",
       "      <td>0.480</td>\n",
       "      <td>F5V</td>\n",
       "      <td>17.030317</td>\n",
       "      <td>1</td>\n",
       "    </tr>\n",
       "  </tbody>\n",
       "</table>\n",
       "<p>33175 rows × 7 columns</p>\n",
       "</div>"
      ],
      "text/plain": [
       "       Vmag    Plx  e_Plx    B-V SpType       Amag  TargetClass\n",
       "1      8.26   3.21   1.00  1.130  K0III  15.792525            0\n",
       "2      8.27  12.75   1.06  0.596    F9V  18.797552            1\n",
       "3      6.54   5.23   0.76  1.189  K1III  15.132508            0\n",
       "4      8.52   0.96   0.72  0.173    B8V  13.431356            1\n",
       "5      6.09   6.02   0.95  0.040  B8IVn  14.987983            1\n",
       "...     ...    ...    ...    ...    ...        ...          ...\n",
       "39545  7.86   1.58   0.98  1.341  K2III  13.853286            0\n",
       "39546  8.36   2.44   0.85  1.087  K1III  15.296949            0\n",
       "39549  9.21   3.89   1.46  0.227   A1IV  17.159748            1\n",
       "39550  9.01   2.13   1.46  1.467  M5III  15.651898            0\n",
       "39551  9.12   3.82   0.79  0.480    F5V  17.030317            1\n",
       "\n",
       "[33175 rows x 7 columns]"
      ]
     },
     "execution_count": 42,
     "metadata": {},
     "output_type": "execute_result"
    }
   ],
   "source": [
    "df = df[lower< df['Plx']]\n",
    "df\n"
   ]
  },
  {
   "cell_type": "code",
   "execution_count": 43,
   "metadata": {},
   "outputs": [
    {
     "data": {
      "text/plain": [
       "<matplotlib.axes._subplots.AxesSubplot at 0x18bfed7d948>"
      ]
     },
     "execution_count": 43,
     "metadata": {},
     "output_type": "execute_result"
    },
    {
     "data": {
      "image/png": "[encoded data removed]",
      "text/plain": [
       "<Figure size 432x288 with 1 Axes>"
      ]
     },
     "metadata": {
      "needs_background": "light"
     },
     "output_type": "display_data"
    }
   ],
   "source": [
    "sns.boxplot(df['Plx'])"
   ]
  },
  {
   "cell_type": "code",
   "execution_count": 44,
   "metadata": {},
   "outputs": [
    {
     "data": {
      "text/plain": [
       "(array([0, 1]), <a list of 2 Text xticklabel objects>)"
      ]
     },
     "execution_count": 44,
     "metadata": {},
     "output_type": "execute_result"
    },
    {
     "data": {
      "image/png": "[encoded data removed]",
      "text/plain": [
       "<Figure size 480x320 with 1 Axes>"
      ]
     },
     "metadata": {
      "needs_background": "light"
     },
     "output_type": "display_data"
    }
   ],
   "source": [
    "plt.figure(figsize=(6, 4), dpi=80)\n",
    "sns.countplot(x=df.TargetClass,data=df)\n",
    "plt.title(\"Number of Stars in Each Category\", fontsize=14, fontweight='bold')\n",
    "plt.ylabel(\"Number of Stars\", fontsize=12, fontweight='bold')\n",
    "plt.xlabel(\"Stars Category\", fontsize=12, fontweight='bold')\n",
    "plt.xticks(size=14)"
   ]
  },
  {
   "cell_type": "code",
   "execution_count": 45,
   "metadata": {},
   "outputs": [
    {
     "name": "stdout",
     "output_type": "stream",
     "text": [
      "Note: you may need to restart the kernel to use updated packages.\n"
     ]
    },
    {
     "name": "stderr",
     "output_type": "stream",
     "text": [
      "'C:\\Users\\Nisreen' is not recognized as an internal or external command,\n",
      "operable program or batch file.\n"
     ]
    }
   ],
   "source": [
    "pip install numpy --upgrade"
   ]
  },
  {
   "cell_type": "code",
   "execution_count": 46,
   "metadata": {},
   "outputs": [],
   "source": [
    "type(df)\n",
    "df=pd.get_dummies(df, drop_first=True)"
   ]
  },
  {
   "cell_type": "code",
   "execution_count": 47,
   "metadata": {},
   "outputs": [],
   "source": [
    "df=pd.get_dummies(df, drop_first=True)"
   ]
  },
  {
   "cell_type": "code",
   "execution_count": 48,
   "metadata": {},
   "outputs": [
    {
     "data": {
      "text/html": [
       "<div>\n",
       "<style scoped>\n",
       "    .dataframe tbody tr th:only-of-type {\n",
       "        vertical-align: middle;\n",
       "    }\n",
       "\n",
       "    .dataframe tbody tr th {\n",
       "        vertical-align: top;\n",
       "    }\n",
       "\n",
       "    .dataframe thead th {\n",
       "        text-align: right;\n",
       "    }\n",
       "</style>\n",
       "<table border=\"1\" class=\"dataframe\">\n",
       "  <thead>\n",
       "    <tr style=\"text-align: right;\">\n",
       "      <th></th>\n",
       "      <th>Vmag</th>\n",
       "      <th>Plx</th>\n",
       "      <th>e_Plx</th>\n",
       "      <th>B-V</th>\n",
       "      <th>Amag</th>\n",
       "      <th>TargetClass</th>\n",
       "      <th>SpType_A0/2V + A9:</th>\n",
       "      <th>SpType_A0/A1III</th>\n",
       "      <th>SpType_A0/A1IV</th>\n",
       "      <th>SpType_A0/A1IV/V</th>\n",
       "      <th>...</th>\n",
       "      <th>SpType_O9II</th>\n",
       "      <th>SpType_O9II:</th>\n",
       "      <th>SpType_O9III</th>\n",
       "      <th>SpType_O9III:</th>\n",
       "      <th>SpType_O9IV</th>\n",
       "      <th>SpType_O9Ia</th>\n",
       "      <th>SpType_O9Iab:</th>\n",
       "      <th>SpType_O9Ib</th>\n",
       "      <th>SpType_O9V</th>\n",
       "      <th>SpType_O9Vp...</th>\n",
       "    </tr>\n",
       "  </thead>\n",
       "  <tbody>\n",
       "    <tr>\n",
       "      <td>1</td>\n",
       "      <td>8.26</td>\n",
       "      <td>3.21</td>\n",
       "      <td>1.00</td>\n",
       "      <td>1.130</td>\n",
       "      <td>15.792525</td>\n",
       "      <td>0</td>\n",
       "      <td>0</td>\n",
       "      <td>0</td>\n",
       "      <td>0</td>\n",
       "      <td>0</td>\n",
       "      <td>...</td>\n",
       "      <td>0</td>\n",
       "      <td>0</td>\n",
       "      <td>0</td>\n",
       "      <td>0</td>\n",
       "      <td>0</td>\n",
       "      <td>0</td>\n",
       "      <td>0</td>\n",
       "      <td>0</td>\n",
       "      <td>0</td>\n",
       "      <td>0</td>\n",
       "    </tr>\n",
       "    <tr>\n",
       "      <td>2</td>\n",
       "      <td>8.27</td>\n",
       "      <td>12.75</td>\n",
       "      <td>1.06</td>\n",
       "      <td>0.596</td>\n",
       "      <td>18.797552</td>\n",
       "      <td>1</td>\n",
       "      <td>0</td>\n",
       "      <td>0</td>\n",
       "      <td>0</td>\n",
       "      <td>0</td>\n",
       "      <td>...</td>\n",
       "      <td>0</td>\n",
       "      <td>0</td>\n",
       "      <td>0</td>\n",
       "      <td>0</td>\n",
       "      <td>0</td>\n",
       "      <td>0</td>\n",
       "      <td>0</td>\n",
       "      <td>0</td>\n",
       "      <td>0</td>\n",
       "      <td>0</td>\n",
       "    </tr>\n",
       "    <tr>\n",
       "      <td>3</td>\n",
       "      <td>6.54</td>\n",
       "      <td>5.23</td>\n",
       "      <td>0.76</td>\n",
       "      <td>1.189</td>\n",
       "      <td>15.132508</td>\n",
       "      <td>0</td>\n",
       "      <td>0</td>\n",
       "      <td>0</td>\n",
       "      <td>0</td>\n",
       "      <td>0</td>\n",
       "      <td>...</td>\n",
       "      <td>0</td>\n",
       "      <td>0</td>\n",
       "      <td>0</td>\n",
       "      <td>0</td>\n",
       "      <td>0</td>\n",
       "      <td>0</td>\n",
       "      <td>0</td>\n",
       "      <td>0</td>\n",
       "      <td>0</td>\n",
       "      <td>0</td>\n",
       "    </tr>\n",
       "    <tr>\n",
       "      <td>4</td>\n",
       "      <td>8.52</td>\n",
       "      <td>0.96</td>\n",
       "      <td>0.72</td>\n",
       "      <td>0.173</td>\n",
       "      <td>13.431356</td>\n",
       "      <td>1</td>\n",
       "      <td>0</td>\n",
       "      <td>0</td>\n",
       "      <td>0</td>\n",
       "      <td>0</td>\n",
       "      <td>...</td>\n",
       "      <td>0</td>\n",
       "      <td>0</td>\n",
       "      <td>0</td>\n",
       "      <td>0</td>\n",
       "      <td>0</td>\n",
       "      <td>0</td>\n",
       "      <td>0</td>\n",
       "      <td>0</td>\n",
       "      <td>0</td>\n",
       "      <td>0</td>\n",
       "    </tr>\n",
       "    <tr>\n",
       "      <td>5</td>\n",
       "      <td>6.09</td>\n",
       "      <td>6.02</td>\n",
       "      <td>0.95</td>\n",
       "      <td>0.040</td>\n",
       "      <td>14.987983</td>\n",
       "      <td>1</td>\n",
       "      <td>0</td>\n",
       "      <td>0</td>\n",
       "      <td>0</td>\n",
       "      <td>0</td>\n",
       "      <td>...</td>\n",
       "      <td>0</td>\n",
       "      <td>0</td>\n",
       "      <td>0</td>\n",
       "      <td>0</td>\n",
       "      <td>0</td>\n",
       "      <td>0</td>\n",
       "      <td>0</td>\n",
       "      <td>0</td>\n",
       "      <td>0</td>\n",
       "      <td>0</td>\n",
       "    </tr>\n",
       "    <tr>\n",
       "      <td>...</td>\n",
       "      <td>...</td>\n",
       "      <td>...</td>\n",
       "      <td>...</td>\n",
       "      <td>...</td>\n",
       "      <td>...</td>\n",
       "      <td>...</td>\n",
       "      <td>...</td>\n",
       "      <td>...</td>\n",
       "      <td>...</td>\n",
       "      <td>...</td>\n",
       "      <td>...</td>\n",
       "      <td>...</td>\n",
       "      <td>...</td>\n",
       "      <td>...</td>\n",
       "      <td>...</td>\n",
       "      <td>...</td>\n",
       "      <td>...</td>\n",
       "      <td>...</td>\n",
       "      <td>...</td>\n",
       "      <td>...</td>\n",
       "      <td>...</td>\n",
       "    </tr>\n",
       "    <tr>\n",
       "      <td>39545</td>\n",
       "      <td>7.86</td>\n",
       "      <td>1.58</td>\n",
       "      <td>0.98</td>\n",
       "      <td>1.341</td>\n",
       "      <td>13.853286</td>\n",
       "      <td>0</td>\n",
       "      <td>0</td>\n",
       "      <td>0</td>\n",
       "      <td>0</td>\n",
       "      <td>0</td>\n",
       "      <td>...</td>\n",
       "      <td>0</td>\n",
       "      <td>0</td>\n",
       "      <td>0</td>\n",
       "      <td>0</td>\n",
       "      <td>0</td>\n",
       "      <td>0</td>\n",
       "      <td>0</td>\n",
       "      <td>0</td>\n",
       "      <td>0</td>\n",
       "      <td>0</td>\n",
       "    </tr>\n",
       "    <tr>\n",
       "      <td>39546</td>\n",
       "      <td>8.36</td>\n",
       "      <td>2.44</td>\n",
       "      <td>0.85</td>\n",
       "      <td>1.087</td>\n",
       "      <td>15.296949</td>\n",
       "      <td>0</td>\n",
       "      <td>0</td>\n",
       "      <td>0</td>\n",
       "      <td>0</td>\n",
       "      <td>0</td>\n",
       "      <td>...</td>\n",
       "      <td>0</td>\n",
       "      <td>0</td>\n",
       "      <td>0</td>\n",
       "      <td>0</td>\n",
       "      <td>0</td>\n",
       "      <td>0</td>\n",
       "      <td>0</td>\n",
       "      <td>0</td>\n",
       "      <td>0</td>\n",
       "      <td>0</td>\n",
       "    </tr>\n",
       "    <tr>\n",
       "      <td>39549</td>\n",
       "      <td>9.21</td>\n",
       "      <td>3.89</td>\n",
       "      <td>1.46</td>\n",
       "      <td>0.227</td>\n",
       "      <td>17.159748</td>\n",
       "      <td>1</td>\n",
       "      <td>0</td>\n",
       "      <td>0</td>\n",
       "      <td>0</td>\n",
       "      <td>0</td>\n",
       "      <td>...</td>\n",
       "      <td>0</td>\n",
       "      <td>0</td>\n",
       "      <td>0</td>\n",
       "      <td>0</td>\n",
       "      <td>0</td>\n",
       "      <td>0</td>\n",
       "      <td>0</td>\n",
       "      <td>0</td>\n",
       "      <td>0</td>\n",
       "      <td>0</td>\n",
       "    </tr>\n",
       "    <tr>\n",
       "      <td>39550</td>\n",
       "      <td>9.01</td>\n",
       "      <td>2.13</td>\n",
       "      <td>1.46</td>\n",
       "      <td>1.467</td>\n",
       "      <td>15.651898</td>\n",
       "      <td>0</td>\n",
       "      <td>0</td>\n",
       "      <td>0</td>\n",
       "      <td>0</td>\n",
       "      <td>0</td>\n",
       "      <td>...</td>\n",
       "      <td>0</td>\n",
       "      <td>0</td>\n",
       "      <td>0</td>\n",
       "      <td>0</td>\n",
       "      <td>0</td>\n",
       "      <td>0</td>\n",
       "      <td>0</td>\n",
       "      <td>0</td>\n",
       "      <td>0</td>\n",
       "      <td>0</td>\n",
       "    </tr>\n",
       "    <tr>\n",
       "      <td>39551</td>\n",
       "      <td>9.12</td>\n",
       "      <td>3.82</td>\n",
       "      <td>0.79</td>\n",
       "      <td>0.480</td>\n",
       "      <td>17.030317</td>\n",
       "      <td>1</td>\n",
       "      <td>0</td>\n",
       "      <td>0</td>\n",
       "      <td>0</td>\n",
       "      <td>0</td>\n",
       "      <td>...</td>\n",
       "      <td>0</td>\n",
       "      <td>0</td>\n",
       "      <td>0</td>\n",
       "      <td>0</td>\n",
       "      <td>0</td>\n",
       "      <td>0</td>\n",
       "      <td>0</td>\n",
       "      <td>0</td>\n",
       "      <td>0</td>\n",
       "      <td>0</td>\n",
       "    </tr>\n",
       "  </tbody>\n",
       "</table>\n",
       "<p>33175 rows × 2074 columns</p>\n",
       "</div>"
      ],
      "text/plain": [
       "       Vmag    Plx  e_Plx    B-V       Amag  TargetClass  SpType_A0/2V + A9:  \\\n",
       "1      8.26   3.21   1.00  1.130  15.792525            0                   0   \n",
       "2      8.27  12.75   1.06  0.596  18.797552            1                   0   \n",
       "3      6.54   5.23   0.76  1.189  15.132508            0                   0   \n",
       "4      8.52   0.96   0.72  0.173  13.431356            1                   0   \n",
       "5      6.09   6.02   0.95  0.040  14.987983            1                   0   \n",
       "...     ...    ...    ...    ...        ...          ...                 ...   \n",
       "39545  7.86   1.58   0.98  1.341  13.853286            0                   0   \n",
       "39546  8.36   2.44   0.85  1.087  15.296949            0                   0   \n",
       "39549  9.21   3.89   1.46  0.227  17.159748            1                   0   \n",
       "39550  9.01   2.13   1.46  1.467  15.651898            0                   0   \n",
       "39551  9.12   3.82   0.79  0.480  17.030317            1                   0   \n",
       "\n",
       "       SpType_A0/A1III  SpType_A0/A1IV  SpType_A0/A1IV/V  ...  SpType_O9II  \\\n",
       "1                    0               0                 0  ...            0   \n",
       "2                    0               0                 0  ...            0   \n",
       "3                    0               0                 0  ...            0   \n",
       "4                    0               0                 0  ...            0   \n",
       "5                    0               0                 0  ...            0   \n",
       "...                ...             ...               ...  ...          ...   \n",
       "39545                0               0                 0  ...            0   \n",
       "39546                0               0                 0  ...            0   \n",
       "39549                0               0                 0  ...            0   \n",
       "39550                0               0                 0  ...            0   \n",
       "39551                0               0                 0  ...            0   \n",
       "\n",
       "       SpType_O9II:  SpType_O9III  SpType_O9III:  SpType_O9IV  SpType_O9Ia  \\\n",
       "1                 0             0              0            0            0   \n",
       "2                 0             0              0            0            0   \n",
       "3                 0             0              0            0            0   \n",
       "4                 0             0              0            0            0   \n",
       "5                 0             0              0            0            0   \n",
       "...             ...           ...            ...          ...          ...   \n",
       "39545             0             0              0            0            0   \n",
       "39546             0             0              0            0            0   \n",
       "39549             0             0              0            0            0   \n",
       "39550             0             0              0            0            0   \n",
       "39551             0             0              0            0            0   \n",
       "\n",
       "       SpType_O9Iab:  SpType_O9Ib  SpType_O9V  SpType_O9Vp...  \n",
       "1                  0            0           0               0  \n",
       "2                  0            0           0               0  \n",
       "3                  0            0           0               0  \n",
       "4                  0            0           0               0  \n",
       "5                  0            0           0               0  \n",
       "...              ...          ...         ...             ...  \n",
       "39545              0            0           0               0  \n",
       "39546              0            0           0               0  \n",
       "39549              0            0           0               0  \n",
       "39550              0            0           0               0  \n",
       "39551              0            0           0               0  \n",
       "\n",
       "[33175 rows x 2074 columns]"
      ]
     },
     "execution_count": 48,
     "metadata": {},
     "output_type": "execute_result"
    }
   ],
   "source": [
    "df"
   ]
  },
  {
   "cell_type": "code",
   "execution_count": 49,
   "metadata": {},
   "outputs": [
    {
     "data": {
      "text/plain": [
       "(33175, 2074)"
      ]
     },
     "execution_count": 49,
     "metadata": {},
     "output_type": "execute_result"
    }
   ],
   "source": [
    "df.shape"
   ]
  },
  {
   "cell_type": "markdown",
   "metadata": {},
   "source": [
    "# Modeling:"
   ]
  },
  {
   "cell_type": "code",
   "execution_count": 50,
   "metadata": {},
   "outputs": [],
   "source": [
    "X= df.drop(['TargetClass'], axis=1)\n",
    "y= df['TargetClass']\n",
    "\n",
    "\n",
    "X_train, X_test, y_train, y_test = train_test_split(X, y, test_size=0.10, random_state=3)\n",
    "X_train, X_val, y_train, y_val = train_test_split(X_train,y_train, test_size=.1111, random_state=3)"
   ]
  },
  {
   "cell_type": "code",
   "execution_count": 51,
   "metadata": {},
   "outputs": [
    {
     "data": {
      "text/plain": [
       "(26539, 2073)"
      ]
     },
     "execution_count": 51,
     "metadata": {},
     "output_type": "execute_result"
    }
   ],
   "source": [
    "X_train.shape"
   ]
  },
  {
   "cell_type": "code",
   "execution_count": 52,
   "metadata": {},
   "outputs": [
    {
     "data": {
      "text/plain": [
       "(3318, 2073)"
      ]
     },
     "execution_count": 52,
     "metadata": {},
     "output_type": "execute_result"
    }
   ],
   "source": [
    "X_test.shape"
   ]
  },
  {
   "cell_type": "code",
   "execution_count": 53,
   "metadata": {},
   "outputs": [
    {
     "data": {
      "text/plain": [
       "(3318, 2073)"
      ]
     },
     "execution_count": 53,
     "metadata": {},
     "output_type": "execute_result"
    }
   ],
   "source": [
    "X_val.shape"
   ]
  },
  {
   "cell_type": "code",
   "execution_count": 54,
   "metadata": {},
   "outputs": [],
   "source": [
    "scaler = StandardScaler()\n",
    "X_train_scaled = scaler.fit_transform(X_train)\n",
    "X_val_scaled = scaler.transform(X_val)"
   ]
  },
  {
   "cell_type": "code",
   "execution_count": 55,
   "metadata": {},
   "outputs": [
    {
     "data": {
      "text/plain": [
       "array([[ 0.1502674 , -1.01377935,  0.20438346, ..., -0.0122778 ,\n",
       "        -0.0122778 , -0.00613855],\n",
       "       [ 0.18657377,  0.15120871,  0.44837619, ..., -0.0122778 ,\n",
       "        -0.0122778 , -0.00613855],\n",
       "       [ 0.5587141 , -0.68172961,  0.34380788, ..., -0.0122778 ,\n",
       "        -0.0122778 , -0.00613855],\n",
       "       ...,\n",
       "       [-0.957077  , -0.15832918, -1.1550046 , ..., -0.0122778 ,\n",
       "        -0.0122778 , -0.00613855],\n",
       "       [ 0.5587141 , -0.99689547, -0.73673135, ..., -0.0122778 ,\n",
       "        -0.0122778 , -0.00613855],\n",
       "       [ 0.94900762, -1.33738715,  0.93636164, ..., -0.0122778 ,\n",
       "        -0.0122778 , -0.00613855]])"
      ]
     },
     "execution_count": 55,
     "metadata": {},
     "output_type": "execute_result"
    }
   ],
   "source": [
    "X_train_scaled"
   ]
  },
  {
   "cell_type": "markdown",
   "metadata": {},
   "source": [
    "## 1-KNN "
   ]
  },
  {
   "cell_type": "code",
   "execution_count": 53,
   "metadata": {},
   "outputs": [
    {
     "name": "stdout",
     "output_type": "stream",
     "text": [
      "The score for kNN is\n",
      "Training set:  98.02%\n",
      "validation set:  97.32%\n",
      "kNN confusion matrix: \n",
      "\n",
      " [[1803    0]\n",
      " [  89 1426]]\n"
     ]
    }
   ],
   "source": [
    "knn = KNeighborsClassifier()\n",
    "knn.fit(X_train_scaled, y_train)\n",
    "print(\"The score for kNN is\")\n",
    "print(\"Training set: {:6.2f}%\".format(100*knn.score(X_train_scaled, y_train)))\n",
    "print(\"validation set: {:6.2f}%\".format(100*knn.score(X_val_scaled, y_val)))\n",
    "print(\"kNN confusion matrix: \\n\\n\", confusion_matrix(y_val, knn.predict(X_val_scaled)))"
   ]
  },
  {
   "cell_type": "markdown",
   "metadata": {},
   "source": [
    "## 2-Logistic Regression"
   ]
  },
  {
   "cell_type": "code",
   "execution_count": 56,
   "metadata": {},
   "outputs": [
    {
     "name": "stdout",
     "output_type": "stream",
     "text": [
      "The score for logistic regression\n",
      "Training set is : 100.00%\n",
      "validation set is:  98.49%\n",
      "logistic regression confusion matrix: \n",
      "\n",
      " [[1763   40]\n",
      " [  10 1505]]\n"
     ]
    }
   ],
   "source": [
    "log_reg = LogisticRegression()\n",
    "log_reg.fit(X_train_scaled, y_train)\n",
    "print(\"The score for logistic regression\")\n",
    "print(\"Training set is : {:6.2f}%\".format(100*log_reg.score(X_train_scaled, y_train)))\n",
    "print(\"validation set is: {:6.2f}%\".format(100*log_reg.score(X_val_scaled, y_val)))\n",
    "print(\"logistic regression confusion matrix: \\n\\n\", confusion_matrix(y_val, log_reg.predict(X_val_scaled)))"
   ]
  },
  {
   "cell_type": "markdown",
   "metadata": {},
   "source": [
    "## 3- Decision Tree "
   ]
  },
  {
   "cell_type": "code",
   "execution_count": 55,
   "metadata": {},
   "outputs": [
    {
     "name": "stdout",
     "output_type": "stream",
     "text": [
      "The score for decision tree \n",
      "Training set is : 100.00%\n",
      "validation set is:  96.11%\n",
      "decision tree confusion matrix: \n",
      "\n",
      " [[1719   84]\n",
      " [  45 1470]]\n"
     ]
    }
   ],
   "source": [
    "decisiontree = DecisionTreeClassifier()\n",
    "decisiontree.fit(X_train_scaled, y_train)\n",
    "print(\"The score for decision tree \")\n",
    "print(\"Training set is : {:6.2f}%\".format(100*decisiontree.score(X_train_scaled, y_train)))\n",
    "print(\"validation set is: {:6.2f}%\".format(100*decisiontree.score(X_val_scaled, y_val)))\n",
    "print(\"decision tree confusion matrix: \\n\\n\", confusion_matrix(y_val, decisiontree.predict(X_val_scaled)))"
   ]
  },
  {
   "cell_type": "markdown",
   "metadata": {},
   "source": [
    "## 4-Random Forest"
   ]
  },
  {
   "cell_type": "code",
   "execution_count": 56,
   "metadata": {},
   "outputs": [
    {
     "name": "stdout",
     "output_type": "stream",
     "text": [
      "The score for random forest \n",
      "Training set is : 100.00%\n",
      "validation set is:  96.50%\n",
      "decision tree confusion matrix: \n",
      "\n",
      " [[1739   64]\n",
      " [  52 1463]]\n"
     ]
    }
   ],
   "source": [
    "randomforest = RandomForestClassifier()\n",
    "randomforest.fit(X_train_scaled, y_train)\n",
    "print(\"The score for random forest \")\n",
    "print(\"Training set is : {:6.2f}%\".format(100*randomforest.score(X_train_scaled, y_train)))\n",
    "print(\"validation set is: {:6.2f}%\".format(100*randomforest.score(X_val_scaled, y_val)))\n",
    "print(\"decision tree confusion matrix: \\n\\n\", confusion_matrix(y_val, randomforest.predict(X_val_scaled)))"
   ]
  },
  {
   "cell_type": "markdown",
   "metadata": {},
   "source": [
    "## 5-XGBClassifier"
   ]
  },
  {
   "cell_type": "code",
   "execution_count": 57,
   "metadata": {},
   "outputs": [
    {
     "name": "stderr",
     "output_type": "stream",
     "text": [
      "C:\\Users\\asus\\anaconda3\\lib\\site-packages\\xgboost\\sklearn.py:1224: UserWarning: The use of label encoder in XGBClassifier is deprecated and will be removed in a future release. To remove this warning, do the following: 1) Pass option use_label_encoder=False when constructing XGBClassifier object; and 2) Encode your labels (y) as integers starting with 0, i.e. 0, 1, 2, ..., [num_class - 1].\n",
      "  warnings.warn(label_encoder_deprecation_msg, UserWarning)\n"
     ]
    },
    {
     "name": "stdout",
     "output_type": "stream",
     "text": [
      "[00:08:38] WARNING: C:/Users/Administrator/workspace/xgboost-win64_release_1.5.1/src/learner.cc:1115: Starting in XGBoost 1.3.0, the default evaluation metric used with the objective 'binary:logistic' was changed from 'error' to 'logloss'. Explicitly set eval_metric if you'd like to restore the old behavior.\n",
      "The score for XGB classifier\n",
      "Training set is :  96.51%\n",
      "validation set is:  95.48%\n",
      "decision tree confusion matrix: \n",
      "\n",
      " [[1712   91]\n",
      " [  59 1456]]\n"
     ]
    }
   ],
   "source": [
    "gbm = xgb.XGBClassifier()\n",
    "gbm.fit(X_train_scaled, y_train)\n",
    "print(\"The score for XGB classifier\")\n",
    "print(\"Training set is : {:6.2f}%\".format(100*gbm.score(X_train_scaled, y_train)))\n",
    "print(\"validation set is: {:6.2f}%\".format(100*gbm.score(X_val_scaled, y_val)))\n",
    "print(\"decision tree confusion matrix: \\n\\n\", confusion_matrix(y_val, gbm.predict(X_val_scaled)))"
   ]
  },
  {
   "cell_type": "markdown",
   "metadata": {},
   "source": [
    "## 6-Naive Bayes"
   ]
  },
  {
   "cell_type": "code",
   "execution_count": 58,
   "metadata": {},
   "outputs": [
    {
     "name": "stdout",
     "output_type": "stream",
     "text": [
      "The score for NB model \n",
      "Training set is : 100.00%\n",
      "validation set is:  97.53%\n",
      "NB confusion matrix: \n",
      "\n",
      " [[1721   82]\n",
      " [   0 1515]]\n"
     ]
    }
   ],
   "source": [
    "nb = GaussianNB()\n",
    "nb.fit(X_train_scaled, y_train)\n",
    "print(\"The score for NB model \")\n",
    "print(\"Training set is : {:6.2f}%\".format(100*nb.score(X_train_scaled, y_train)))\n",
    "print(\"validation set is: {:6.2f}%\".format(100*nb.score(X_val_scaled, y_val)))\n",
    "print(\"NB confusion matrix: \\n\\n\", confusion_matrix(y_val, nb.predict(X_val_scaled)))"
   ]
  },
  {
   "cell_type": "markdown",
   "metadata": {},
   "source": [
    "## 7-SVM"
   ]
  },
  {
   "cell_type": "code",
   "execution_count": 59,
   "metadata": {
    "scrolled": true
   },
   "outputs": [
    {
     "name": "stdout",
     "output_type": "stream",
     "text": [
      "The score for SVM model \n",
      "Training set is : 100.00%\n",
      "validation set is:  98.34%\n",
      "decision tree confusion matrix: \n",
      "\n",
      " [[1767   36]\n",
      " [  19 1496]]\n"
     ]
    }
   ],
   "source": [
    "svc= svm.SVC()\n",
    "svc.fit(X_train_scaled, y_train)\n",
    "print(\"The score for SVM model \")\n",
    "print(\"Training set is : {:6.2f}%\".format(100*svc.score(X_train_scaled, y_train)))\n",
    "print(\"validation set is: {:6.2f}%\".format(100*svc.score(X_val_scaled, y_val)))\n",
    "print(\"decision tree confusion matrix: \\n\\n\", confusion_matrix(y_val, svc.predict(X_val_scaled)))"
   ]
  },
  {
   "cell_type": "markdown",
   "metadata": {},
   "source": [
    "## Tuning SVM\n"
   ]
  },
  {
   "cell_type": "code",
   "execution_count": 83,
   "metadata": {},
   "outputs": [
    {
     "name": "stdout",
     "output_type": "stream",
     "text": [
      "The score for SVM model \n",
      "Training set is : 100.00%\n",
      "validation set is:  98.58%\n",
      "decision tree confusion matrix: \n",
      "\n",
      " [[1768   35]\n",
      " [  12 1503]]\n"
     ]
    }
   ],
   "source": [
    "svc= svm.SVC(gamma=.0001,kernel='sigmoid')\n",
    "svc.fit(X_train_scaled, y_train)\n",
    "print(\"The score for SVM model \")\n",
    "print(\"Training set is : {:6.2f}%\".format(100*svc.score(X_train_scaled, y_train)))\n",
    "print(\"validation set is: {:6.2f}%\".format(100*svc.score(X_val_scaled, y_val)))\n",
    "print(\"decision tree confusion matrix: \\n\\n\", confusion_matrix(y_val, svc.predict(X_val_scaled)))"
   ]
  },
  {
   "cell_type": "markdown",
   "metadata": {},
   "source": [
    "## Tuning and Grid Search for Logistic Regression"
   ]
  },
  {
   "cell_type": "code",
   "execution_count": 62,
   "metadata": {},
   "outputs": [
    {
     "name": "stderr",
     "output_type": "stream",
     "text": [
      "C:\\Users\\asus\\anaconda3\\lib\\site-packages\\sklearn\\model_selection\\_validation.py:536: FitFailedWarning: Estimator fit failed. The score on this train-test partition for these parameters will be set to nan. Details: \n",
      "ValueError: Solver lbfgs supports only 'l2' or 'none' penalties, got l1 penalty.\n",
      "\n",
      "  FitFailedWarning)\n",
      "C:\\Users\\asus\\anaconda3\\lib\\site-packages\\sklearn\\model_selection\\_validation.py:536: FitFailedWarning: Estimator fit failed. The score on this train-test partition for these parameters will be set to nan. Details: \n",
      "ValueError: Solver lbfgs supports only 'l2' or 'none' penalties, got l1 penalty.\n",
      "\n",
      "  FitFailedWarning)\n",
      "C:\\Users\\asus\\anaconda3\\lib\\site-packages\\sklearn\\model_selection\\_validation.py:536: FitFailedWarning: Estimator fit failed. The score on this train-test partition for these parameters will be set to nan. Details: \n",
      "ValueError: Solver lbfgs supports only 'l2' or 'none' penalties, got l1 penalty.\n",
      "\n",
      "  FitFailedWarning)\n",
      "C:\\Users\\asus\\anaconda3\\lib\\site-packages\\sklearn\\model_selection\\_validation.py:536: FitFailedWarning: Estimator fit failed. The score on this train-test partition for these parameters will be set to nan. Details: \n",
      "ValueError: Solver lbfgs supports only 'l2' or 'none' penalties, got l1 penalty.\n",
      "\n",
      "  FitFailedWarning)\n",
      "C:\\Users\\asus\\anaconda3\\lib\\site-packages\\sklearn\\model_selection\\_validation.py:536: FitFailedWarning: Estimator fit failed. The score on this train-test partition for these parameters will be set to nan. Details: \n",
      "ValueError: Solver lbfgs supports only 'l2' or 'none' penalties, got l1 penalty.\n",
      "\n",
      "  FitFailedWarning)\n",
      "C:\\Users\\asus\\anaconda3\\lib\\site-packages\\sklearn\\model_selection\\_validation.py:536: FitFailedWarning: Estimator fit failed. The score on this train-test partition for these parameters will be set to nan. Details: \n",
      "ValueError: Solver lbfgs supports only 'l2' or 'none' penalties, got l1 penalty.\n",
      "\n",
      "  FitFailedWarning)\n",
      "C:\\Users\\asus\\anaconda3\\lib\\site-packages\\sklearn\\model_selection\\_validation.py:536: FitFailedWarning: Estimator fit failed. The score on this train-test partition for these parameters will be set to nan. Details: \n",
      "ValueError: Solver lbfgs supports only 'l2' or 'none' penalties, got l1 penalty.\n",
      "\n",
      "  FitFailedWarning)\n"
     ]
    },
    {
     "name": "stdout",
     "output_type": "stream",
     "text": [
      "tuned hpyerparameters :(best parameters)  {'C': 0.01, 'penalty': 'l2'}\n",
      "accuracy : 0.9882437692663668\n"
     ]
    }
   ],
   "source": [
    "# Grid search cross validation\n",
    "from sklearn.model_selection import GridSearchCV\n",
    "grid={\"C\":np.logspace(-3,3,7), \"penalty\":[\"l1\",\"l2\"]}# l1 lasso l2 ridge\n",
    "logreg=LogisticRegression()\n",
    "logreg_cv=GridSearchCV(logreg,grid,cv=5)\n",
    "logreg_cv.fit(X_train_scaled, y_train)\n",
    "\n",
    "print(\"tuned hpyerparameters :(best parameters) \",logreg_cv.best_params_)\n",
    "print(\"accuracy :\",logreg_cv.best_score_)"
   ]
  },
  {
   "cell_type": "code",
   "execution_count": 57,
   "metadata": {},
   "outputs": [
    {
     "name": "stderr",
     "output_type": "stream",
     "text": [
      "C:\\Users\\Nisreen Abdullah\\Anaconda3\\lib\\site-packages\\sklearn\\linear_model\\_sag.py:329: ConvergenceWarning: The max_iter was reached which means the coef_ did not converge\n",
      "  \"the coef_ did not converge\", ConvergenceWarning)\n"
     ]
    },
    {
     "name": "stdout",
     "output_type": "stream",
     "text": [
      "The score for logistic regression\n",
      "Training set is : 100.00%\n",
      "validation set is:  98.70%\n",
      "logistic regression confusion matrix: \n",
      "\n",
      " [[1773   30]\n",
      " [  13 1502]]\n"
     ]
    }
   ],
   "source": [
    "log_reg = LogisticRegression(C= 0.01,penalty= 'l2',solver='saga')\n",
    "log_reg.fit(X_train_scaled, y_train)\n",
    "print(\"The score for logistic regression\")\n",
    "print(\"Training set is : {:6.2f}%\".format(100*log_reg.score(X_train_scaled, y_train)))\n",
    "print(\"validation set is: {:6.2f}%\".format(100*log_reg.score(X_val_scaled, y_val)))\n",
    "print(\"logistic regression confusion matrix: \\n\\n\", confusion_matrix(y_val, log_reg.predict(X_val_scaled)))"
   ]
  },
  {
   "cell_type": "markdown",
   "metadata": {},
   "source": [
    "## Testing best models"
   ]
  },
  {
   "cell_type": "code",
   "execution_count": 84,
   "metadata": {},
   "outputs": [],
   "source": [
    "X_data = pd.concat([X_train, X_val])\n",
    "y_data = pd.concat([y_train, y_val])"
   ]
  },
  {
   "cell_type": "code",
   "execution_count": 101,
   "metadata": {},
   "outputs": [],
   "source": [
    "scaler = StandardScaler()\n",
    "X_scaled = scaler.fit_transform(X_data)\n",
    "X_test_scaled = scaler.transform(X_test)"
   ]
  },
  {
   "cell_type": "code",
   "execution_count": 102,
   "metadata": {},
   "outputs": [
    {
     "name": "stderr",
     "output_type": "stream",
     "text": [
      "C:\\Users\\Nisreen Abdullah\\Anaconda3\\lib\\site-packages\\sklearn\\linear_model\\_sag.py:329: ConvergenceWarning: The max_iter was reached which means the coef_ did not converge\n",
      "  \"the coef_ did not converge\", ConvergenceWarning)\n"
     ]
    },
    {
     "name": "stdout",
     "output_type": "stream",
     "text": [
      "The score for logistic regression\n",
      "Training set is : 100.00%\n",
      "Testing set is :  99.01%\n",
      "confusion matrix: \n",
      "\n",
      " [[1733   19]\n",
      " [  14 1552]]\n"
     ]
    }
   ],
   "source": [
    "log_reg = LogisticRegression(C= 0.01,penalty= 'l2',solver='saga')\n",
    "log_reg.fit(X_scaled, y_data)\n",
    "y_pred = log_reg.predict(X_test_scaled)\n",
    "print(\"The score for logistic regression\")\n",
    "print(\"Training set is : {:6.2f}%\".format(100*log_reg.score(X_scaled, y_data)))\n",
    "print(\"Testing set is : {:6.2f}%\".format(100*accuracy_score(y_test, y_pred)))\n",
    "print(\"confusion matrix: \\n\\n\",confusion_matrix(y_test, y_pred))"
   ]
  },
  {
   "cell_type": "code",
   "execution_count": 109,
   "metadata": {},
   "outputs": [
    {
     "data": {
      "image/png": "[encoded data removed]",
      "text/plain": [
       "<Figure size 432x288 with 2 Axes>"
      ]
     },
     "metadata": {
      "needs_background": "light"
     },
     "output_type": "display_data"
    }
   ],
   "source": [
    "plot_confusion_matrix(log_reg, X_test_scaled, y_test, cmap=plt.cm.Blues)  \n",
    "plt.show()"
   ]
  },
  {
   "cell_type": "code",
   "execution_count": 110,
   "metadata": {},
   "outputs": [
    {
     "name": "stdout",
     "output_type": "stream",
     "text": [
      "The score for SVM\n",
      "Training set is : 100.00%\n",
      "Testing set is :  98.85%\n",
      "confusion matrix: \n",
      "\n",
      " [[1728   24]\n",
      " [  14 1552]]\n"
     ]
    }
   ],
   "source": [
    "svc= svm.SVC(gamma=.0001,kernel='sigmoid')\n",
    "svc.fit(X_scaled, y_data)\n",
    "y_pred = svc.predict(X_test_scaled)\n",
    "print(\"The score for SVM\")\n",
    "print(\"Training set is : {:6.2f}%\".format(100*svc.score(X_scaled, y_data)))\n",
    "print(\"Testing set is : {:6.2f}%\".format(100*accuracy_score(y_test, y_pred)))\n",
    "print(\"confusion matrix: \\n\\n\",confusion_matrix(y_test, y_pred))"
   ]
  },
  {
   "cell_type": "code",
   "execution_count": 111,
   "metadata": {},
   "outputs": [
    {
     "data": {
      "image/png": "[encoded data removed]",
      "text/plain": [
       "<Figure size 432x288 with 2 Axes>"
      ]
     },
     "metadata": {
      "needs_background": "light"
     },
     "output_type": "display_data"
    }
   ],
   "source": [
    "plot_confusion_matrix(svc, X_test_scaled, y_test, cmap=plt.cm.Blues)  \n",
    "plt.show()"
   ]
  },
  {
   "cell_type": "markdown",
   "metadata": {},
   "source": [
    "\n",
    "# Saving my models\n"
   ]
  },
  {
   "cell_type": "code",
   "execution_count": 115,
   "metadata": {},
   "outputs": [],
   "source": [
    "with open(f\"models/log_reg.pickle\", \"wb\") as pfile:\n",
    "    pickle.dump(log_reg, pfile)"
   ]
  },
  {
   "cell_type": "code",
   "execution_count": 116,
   "metadata": {},
   "outputs": [],
   "source": [
    "with open(f\"models/svc.pickle\", \"wb\") as pfile:\n",
    "    pickle.dump(svc, pfile)"
   ]
  },
  {
   "cell_type": "code",
   "execution_count": null,
   "metadata": {},
   "outputs": [],
   "source": []
  }
 ],
 "metadata": {
  "kernelspec": {
   "display_name": "Python 3",
   "language": "python",
   "name": "python3"
  },
  "language_info": {
   "codemirror_mode": {
    "name": "ipython",
    "version": 3
   },
   "file_extension": ".py",
   "mimetype": "text/x-python",
   "name": "python",
   "nbconvert_exporter": "python",
   "pygments_lexer": "ipython3",
   "version": "3.7.4"
  }
 },
 "nbformat": 4,
 "nbformat_minor": 4
}
